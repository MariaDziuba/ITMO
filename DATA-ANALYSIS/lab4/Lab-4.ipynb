{
 "cells": [
  {
   "cell_type": "markdown",
   "id": "infectious-bradley",
   "metadata": {},
   "source": [
    "# Задание из четвёртой лабы\n",
    "\n",
    "Обучите один из алгоритмов классификации из библиотеки sklearn. Объяснять принцип работы классификатора в этой лабораторной не требуется\n",
    "\n",
    "1. Выберите один из датасетов первой лабораторной\n",
    "\n",
    "\n",
    "2. Найдите в данных признак, который будете предсказывать\n",
    "    \n",
    "    Если это категория, то у неё должно быть от 2 до 10 значений (например колонка species в датасете миграции птиц содержит 3 категории)\n",
    "    \n",
    "    Если признак количественный, то его нужно дискретизировать (например для популярности трека в датасете spotify можно разделить треки на 3 категории: 0-20 - популярные, 21-50 - обычные, 51 - 100 - непопулярные). Полученную категорию записать в датафрейм как отдельную колонку\n",
    "\n",
    "\n",
    "3. Выделите признаки для предсказания\n",
    "    \n",
    "    Используйте от 2 до 5 количественных признаков для предсказания целевой переменной\n",
    "\n",
    "\n",
    "4. Проверьте нормальность количественных признаков\n",
    "    \n",
    "    Используйте статистический тест из лекции. Если распределение является лог-нормальным, логарифмируйте его и проверьте на нормальность\n",
    "    \n",
    "    Как минимум 1 из признаков должен быть нормальным\n",
    "\n",
    "\n",
    "5. Покажите качество предсказания модели с помощью метрик\n",
    "\n",
    "    Метрика должна учитывать баланс классов в датасете"
   ]
  },
  {
   "cell_type": "code",
   "execution_count": 1,
   "id": "powered-leeds",
   "metadata": {},
   "outputs": [],
   "source": [
    "import pandas as pd\n",
    "import numpy as np"
   ]
  },
  {
   "cell_type": "code",
   "execution_count": 11,
   "id": "639610c2",
   "metadata": {},
   "outputs": [],
   "source": [
    "import warnings\n",
    "warnings.filterwarnings(\"ignore\", category=FutureWarning)"
   ]
  },
  {
   "cell_type": "markdown",
   "id": "8e7b1d9c",
   "metadata": {},
   "source": [
    "Датасет: https://www.kaggle.com/isaienkov/nba2k20-player-dataset"
   ]
  },
  {
   "cell_type": "code",
   "execution_count": 13,
   "id": "263304f1",
   "metadata": {},
   "outputs": [],
   "source": [
    "df = pd.read_csv('nba2k20-full.csv')"
   ]
  },
  {
   "cell_type": "code",
   "execution_count": 14,
   "id": "5140eafc",
   "metadata": {},
   "outputs": [
    {
     "data": {
      "text/html": [
       "<div>\n",
       "<style scoped>\n",
       "    .dataframe tbody tr th:only-of-type {\n",
       "        vertical-align: middle;\n",
       "    }\n",
       "\n",
       "    .dataframe tbody tr th {\n",
       "        vertical-align: top;\n",
       "    }\n",
       "\n",
       "    .dataframe thead th {\n",
       "        text-align: right;\n",
       "    }\n",
       "</style>\n",
       "<table border=\"1\" class=\"dataframe\">\n",
       "  <thead>\n",
       "    <tr style=\"text-align: right;\">\n",
       "      <th></th>\n",
       "      <th>full_name</th>\n",
       "      <th>rating</th>\n",
       "      <th>jersey</th>\n",
       "      <th>team</th>\n",
       "      <th>position</th>\n",
       "      <th>b_day</th>\n",
       "      <th>height</th>\n",
       "      <th>weight</th>\n",
       "      <th>salary</th>\n",
       "      <th>country</th>\n",
       "      <th>draft_year</th>\n",
       "      <th>draft_round</th>\n",
       "      <th>draft_peak</th>\n",
       "      <th>college</th>\n",
       "    </tr>\n",
       "  </thead>\n",
       "  <tbody>\n",
       "    <tr>\n",
       "      <th>0</th>\n",
       "      <td>LeBron James</td>\n",
       "      <td>97</td>\n",
       "      <td>#23</td>\n",
       "      <td>Los Angeles Lakers</td>\n",
       "      <td>F</td>\n",
       "      <td>12/30/84</td>\n",
       "      <td>6-9 / 2.06</td>\n",
       "      <td>250 lbs. / 113.4 kg.</td>\n",
       "      <td>$37436858</td>\n",
       "      <td>USA</td>\n",
       "      <td>2003</td>\n",
       "      <td>1</td>\n",
       "      <td>1</td>\n",
       "      <td>NaN</td>\n",
       "    </tr>\n",
       "    <tr>\n",
       "      <th>1</th>\n",
       "      <td>Kawhi Leonard</td>\n",
       "      <td>97</td>\n",
       "      <td>#2</td>\n",
       "      <td>Los Angeles Clippers</td>\n",
       "      <td>F</td>\n",
       "      <td>06/29/91</td>\n",
       "      <td>6-7 / 2.01</td>\n",
       "      <td>225 lbs. / 102.1 kg.</td>\n",
       "      <td>$32742000</td>\n",
       "      <td>USA</td>\n",
       "      <td>2011</td>\n",
       "      <td>1</td>\n",
       "      <td>15</td>\n",
       "      <td>San Diego State</td>\n",
       "    </tr>\n",
       "    <tr>\n",
       "      <th>2</th>\n",
       "      <td>Giannis Antetokounmpo</td>\n",
       "      <td>96</td>\n",
       "      <td>#34</td>\n",
       "      <td>Milwaukee Bucks</td>\n",
       "      <td>F-G</td>\n",
       "      <td>12/06/94</td>\n",
       "      <td>6-11 / 2.11</td>\n",
       "      <td>242 lbs. / 109.8 kg.</td>\n",
       "      <td>$25842697</td>\n",
       "      <td>Greece</td>\n",
       "      <td>2013</td>\n",
       "      <td>1</td>\n",
       "      <td>15</td>\n",
       "      <td>NaN</td>\n",
       "    </tr>\n",
       "    <tr>\n",
       "      <th>3</th>\n",
       "      <td>Kevin Durant</td>\n",
       "      <td>96</td>\n",
       "      <td>#7</td>\n",
       "      <td>Brooklyn Nets</td>\n",
       "      <td>F</td>\n",
       "      <td>09/29/88</td>\n",
       "      <td>6-10 / 2.08</td>\n",
       "      <td>230 lbs. / 104.3 kg.</td>\n",
       "      <td>$37199000</td>\n",
       "      <td>USA</td>\n",
       "      <td>2007</td>\n",
       "      <td>1</td>\n",
       "      <td>2</td>\n",
       "      <td>Texas</td>\n",
       "    </tr>\n",
       "    <tr>\n",
       "      <th>4</th>\n",
       "      <td>James Harden</td>\n",
       "      <td>96</td>\n",
       "      <td>#13</td>\n",
       "      <td>Houston Rockets</td>\n",
       "      <td>G</td>\n",
       "      <td>08/26/89</td>\n",
       "      <td>6-5 / 1.96</td>\n",
       "      <td>220 lbs. / 99.8 kg.</td>\n",
       "      <td>$38199000</td>\n",
       "      <td>USA</td>\n",
       "      <td>2009</td>\n",
       "      <td>1</td>\n",
       "      <td>3</td>\n",
       "      <td>Arizona State</td>\n",
       "    </tr>\n",
       "  </tbody>\n",
       "</table>\n",
       "</div>"
      ],
      "text/plain": [
       "               full_name  rating jersey                  team position  \\\n",
       "0           LeBron James      97    #23    Los Angeles Lakers        F   \n",
       "1          Kawhi Leonard      97     #2  Los Angeles Clippers        F   \n",
       "2  Giannis Antetokounmpo      96    #34       Milwaukee Bucks      F-G   \n",
       "3           Kevin Durant      96     #7         Brooklyn Nets        F   \n",
       "4           James Harden      96    #13       Houston Rockets        G   \n",
       "\n",
       "      b_day       height                weight     salary country  draft_year  \\\n",
       "0  12/30/84   6-9 / 2.06  250 lbs. / 113.4 kg.  $37436858     USA        2003   \n",
       "1  06/29/91   6-7 / 2.01  225 lbs. / 102.1 kg.  $32742000     USA        2011   \n",
       "2  12/06/94  6-11 / 2.11  242 lbs. / 109.8 kg.  $25842697  Greece        2013   \n",
       "3  09/29/88  6-10 / 2.08  230 lbs. / 104.3 kg.  $37199000     USA        2007   \n",
       "4  08/26/89   6-5 / 1.96   220 lbs. / 99.8 kg.  $38199000     USA        2009   \n",
       "\n",
       "  draft_round draft_peak          college  \n",
       "0           1          1              NaN  \n",
       "1           1         15  San Diego State  \n",
       "2           1         15              NaN  \n",
       "3           1          2            Texas  \n",
       "4           1          3    Arizona State  "
      ]
     },
     "execution_count": 14,
     "metadata": {},
     "output_type": "execute_result"
    }
   ],
   "source": [
    "df.head()"
   ]
  },
  {
   "cell_type": "markdown",
   "id": "30409149",
   "metadata": {},
   "source": [
    "Будем предсказывать позицию игрока на поле, position"
   ]
  },
  {
   "cell_type": "markdown",
   "id": "ab14cec8",
   "metadata": {},
   "source": [
    "Для предсказания будем использовать признаки rating, height, weight, salary"
   ]
  },
  {
   "cell_type": "code",
   "execution_count": 15,
   "id": "45acd7dc",
   "metadata": {},
   "outputs": [],
   "source": [
    "cols = ['rating', 'height', 'weight', 'salary']"
   ]
  },
  {
   "cell_type": "code",
   "execution_count": 16,
   "id": "3b4cddf3",
   "metadata": {},
   "outputs": [],
   "source": [
    "X = df[cols]"
   ]
  },
  {
   "cell_type": "code",
   "execution_count": 17,
   "id": "a40580cd",
   "metadata": {},
   "outputs": [
    {
     "data": {
      "text/html": [
       "<div>\n",
       "<style scoped>\n",
       "    .dataframe tbody tr th:only-of-type {\n",
       "        vertical-align: middle;\n",
       "    }\n",
       "\n",
       "    .dataframe tbody tr th {\n",
       "        vertical-align: top;\n",
       "    }\n",
       "\n",
       "    .dataframe thead th {\n",
       "        text-align: right;\n",
       "    }\n",
       "</style>\n",
       "<table border=\"1\" class=\"dataframe\">\n",
       "  <thead>\n",
       "    <tr style=\"text-align: right;\">\n",
       "      <th></th>\n",
       "      <th>rating</th>\n",
       "      <th>height</th>\n",
       "      <th>weight</th>\n",
       "      <th>salary</th>\n",
       "    </tr>\n",
       "  </thead>\n",
       "  <tbody>\n",
       "    <tr>\n",
       "      <th>0</th>\n",
       "      <td>97</td>\n",
       "      <td>6-9 / 2.06</td>\n",
       "      <td>250 lbs. / 113.4 kg.</td>\n",
       "      <td>$37436858</td>\n",
       "    </tr>\n",
       "    <tr>\n",
       "      <th>1</th>\n",
       "      <td>97</td>\n",
       "      <td>6-7 / 2.01</td>\n",
       "      <td>225 lbs. / 102.1 kg.</td>\n",
       "      <td>$32742000</td>\n",
       "    </tr>\n",
       "    <tr>\n",
       "      <th>2</th>\n",
       "      <td>96</td>\n",
       "      <td>6-11 / 2.11</td>\n",
       "      <td>242 lbs. / 109.8 kg.</td>\n",
       "      <td>$25842697</td>\n",
       "    </tr>\n",
       "    <tr>\n",
       "      <th>3</th>\n",
       "      <td>96</td>\n",
       "      <td>6-10 / 2.08</td>\n",
       "      <td>230 lbs. / 104.3 kg.</td>\n",
       "      <td>$37199000</td>\n",
       "    </tr>\n",
       "    <tr>\n",
       "      <th>4</th>\n",
       "      <td>96</td>\n",
       "      <td>6-5 / 1.96</td>\n",
       "      <td>220 lbs. / 99.8 kg.</td>\n",
       "      <td>$38199000</td>\n",
       "    </tr>\n",
       "    <tr>\n",
       "      <th>...</th>\n",
       "      <td>...</td>\n",
       "      <td>...</td>\n",
       "      <td>...</td>\n",
       "      <td>...</td>\n",
       "    </tr>\n",
       "    <tr>\n",
       "      <th>424</th>\n",
       "      <td>68</td>\n",
       "      <td>6-0 / 1.83</td>\n",
       "      <td>180 lbs. / 81.6 kg.</td>\n",
       "      <td>$522738</td>\n",
       "    </tr>\n",
       "    <tr>\n",
       "      <th>425</th>\n",
       "      <td>68</td>\n",
       "      <td>6-3 / 1.91</td>\n",
       "      <td>200 lbs. / 90.7 kg.</td>\n",
       "      <td>$79568</td>\n",
       "    </tr>\n",
       "    <tr>\n",
       "      <th>426</th>\n",
       "      <td>68</td>\n",
       "      <td>6-10 / 2.08</td>\n",
       "      <td>200 lbs. / 90.7 kg.</td>\n",
       "      <td>$79568</td>\n",
       "    </tr>\n",
       "    <tr>\n",
       "      <th>427</th>\n",
       "      <td>68</td>\n",
       "      <td>6-3 / 1.91</td>\n",
       "      <td>190 lbs. / 86.2 kg.</td>\n",
       "      <td>$898310</td>\n",
       "    </tr>\n",
       "    <tr>\n",
       "      <th>428</th>\n",
       "      <td>67</td>\n",
       "      <td>6-7 / 2.01</td>\n",
       "      <td>215 lbs. / 97.5 kg.</td>\n",
       "      <td>$1416852</td>\n",
       "    </tr>\n",
       "  </tbody>\n",
       "</table>\n",
       "<p>429 rows × 4 columns</p>\n",
       "</div>"
      ],
      "text/plain": [
       "     rating       height                weight     salary\n",
       "0        97   6-9 / 2.06  250 lbs. / 113.4 kg.  $37436858\n",
       "1        97   6-7 / 2.01  225 lbs. / 102.1 kg.  $32742000\n",
       "2        96  6-11 / 2.11  242 lbs. / 109.8 kg.  $25842697\n",
       "3        96  6-10 / 2.08  230 lbs. / 104.3 kg.  $37199000\n",
       "4        96   6-5 / 1.96   220 lbs. / 99.8 kg.  $38199000\n",
       "..      ...          ...                   ...        ...\n",
       "424      68   6-0 / 1.83   180 lbs. / 81.6 kg.    $522738\n",
       "425      68   6-3 / 1.91   200 lbs. / 90.7 kg.     $79568\n",
       "426      68  6-10 / 2.08   200 lbs. / 90.7 kg.     $79568\n",
       "427      68   6-3 / 1.91   190 lbs. / 86.2 kg.    $898310\n",
       "428      67   6-7 / 2.01   215 lbs. / 97.5 kg.   $1416852\n",
       "\n",
       "[429 rows x 4 columns]"
      ]
     },
     "execution_count": 17,
     "metadata": {},
     "output_type": "execute_result"
    }
   ],
   "source": [
    "X"
   ]
  },
  {
   "cell_type": "code",
   "execution_count": 18,
   "id": "909f8f85",
   "metadata": {},
   "outputs": [],
   "source": [
    "y = df['position']"
   ]
  },
  {
   "cell_type": "code",
   "execution_count": 19,
   "id": "de9a7afe",
   "metadata": {},
   "outputs": [
    {
     "data": {
      "text/plain": [
       "0        F\n",
       "1        F\n",
       "2      F-G\n",
       "3        F\n",
       "4        G\n",
       "      ... \n",
       "424      G\n",
       "425      G\n",
       "426      F\n",
       "427      G\n",
       "428      F\n",
       "Name: position, Length: 429, dtype: object"
      ]
     },
     "execution_count": 19,
     "metadata": {},
     "output_type": "execute_result"
    }
   ],
   "source": [
    "y"
   ]
  },
  {
   "cell_type": "code",
   "execution_count": 20,
   "id": "2ba0de53",
   "metadata": {},
   "outputs": [
    {
     "data": {
      "text/plain": [
       "rating    0\n",
       "height    0\n",
       "weight    0\n",
       "salary    0\n",
       "dtype: int64"
      ]
     },
     "execution_count": 20,
     "metadata": {},
     "output_type": "execute_result"
    }
   ],
   "source": [
    "X.isna().sum()"
   ]
  },
  {
   "cell_type": "code",
   "execution_count": 21,
   "id": "2246ad06",
   "metadata": {},
   "outputs": [
    {
     "name": "stderr",
     "output_type": "stream",
     "text": [
      "/Users/maria/opt/anaconda3/lib/python3.8/site-packages/pandas/core/indexing.py:1676: SettingWithCopyWarning: \n",
      "A value is trying to be set on a copy of a slice from a DataFrame.\n",
      "Try using .loc[row_indexer,col_indexer] = value instead\n",
      "\n",
      "See the caveats in the documentation: https://pandas.pydata.org/pandas-docs/stable/user_guide/indexing.html#returning-a-view-versus-a-copy\n",
      "  self._setitem_single_column(ilocs[0], value, pi)\n"
     ]
    }
   ],
   "source": [
    "X.loc[:, 'height'] = X.loc[:, 'height'].apply(lambda x : float(x.split('/')[1]))"
   ]
  },
  {
   "cell_type": "code",
   "execution_count": 97,
   "id": "490ae984",
   "metadata": {},
   "outputs": [
    {
     "name": "stderr",
     "output_type": "stream",
     "text": [
      "<ipython-input-97-fca34bf418d2>:1: SettingWithCopyWarning: \n",
      "A value is trying to be set on a copy of a slice from a DataFrame.\n",
      "Try using .loc[row_indexer,col_indexer] = value instead\n",
      "\n",
      "See the caveats in the documentation: https://pandas.pydata.org/pandas-docs/stable/user_guide/indexing.html#returning-a-view-versus-a-copy\n",
      "  X['weight'] = X['weight'].apply(lambda x : float((x.split(\"/\")[1]).split(\" \")[1]))\n"
     ]
    }
   ],
   "source": [
    "X.loc[:, 'weight'] = X.loc[:, 'weight'].apply(lambda x : float((x.split(\"/\")[1]).split(\" \")[1]))"
   ]
  },
  {
   "cell_type": "code",
   "execution_count": 98,
   "id": "7007f033",
   "metadata": {},
   "outputs": [
    {
     "data": {
      "text/plain": [
       "0    113.4\n",
       "1    102.1\n",
       "2    109.8\n",
       "3    104.3\n",
       "4     99.8\n",
       "Name: weight, dtype: float64"
      ]
     },
     "execution_count": 98,
     "metadata": {},
     "output_type": "execute_result"
    }
   ],
   "source": [
    "X['weight'].head()"
   ]
  },
  {
   "cell_type": "code",
   "execution_count": 74,
   "id": "65ecb53f",
   "metadata": {},
   "outputs": [
    {
     "data": {
      "text/plain": [
       "'102.1'"
      ]
     },
     "execution_count": 74,
     "metadata": {},
     "output_type": "execute_result"
    }
   ],
   "source": [
    "(\"225 lbs. / 102.1 kg.\".split(\"/\")[1]).split(\" \")[1]"
   ]
  },
  {
   "cell_type": "code",
   "execution_count": 101,
   "id": "10f03b26",
   "metadata": {},
   "outputs": [
    {
     "name": "stderr",
     "output_type": "stream",
     "text": [
      "<ipython-input-101-7e0f75aa88e8>:1: SettingWithCopyWarning: \n",
      "A value is trying to be set on a copy of a slice from a DataFrame.\n",
      "Try using .loc[row_indexer,col_indexer] = value instead\n",
      "\n",
      "See the caveats in the documentation: https://pandas.pydata.org/pandas-docs/stable/user_guide/indexing.html#returning-a-view-versus-a-copy\n",
      "  X['salary'] = X['salary'].apply(lambda x : int(x[1:]))\n"
     ]
    }
   ],
   "source": [
    "X.loc[:, 'salary'] = X.loc[:, 'salary'].apply(lambda x : int(x[1:]))\n",
    "#X['salary'] = X['salary'].apply(lambda x : int(x[1:]))"
   ]
  },
  {
   "cell_type": "code",
   "execution_count": 102,
   "id": "865e8dc0",
   "metadata": {},
   "outputs": [
    {
     "data": {
      "text/html": [
       "<div>\n",
       "<style scoped>\n",
       "    .dataframe tbody tr th:only-of-type {\n",
       "        vertical-align: middle;\n",
       "    }\n",
       "\n",
       "    .dataframe tbody tr th {\n",
       "        vertical-align: top;\n",
       "    }\n",
       "\n",
       "    .dataframe thead th {\n",
       "        text-align: right;\n",
       "    }\n",
       "</style>\n",
       "<table border=\"1\" class=\"dataframe\">\n",
       "  <thead>\n",
       "    <tr style=\"text-align: right;\">\n",
       "      <th></th>\n",
       "      <th>rating</th>\n",
       "      <th>height</th>\n",
       "      <th>weight</th>\n",
       "      <th>salary</th>\n",
       "    </tr>\n",
       "  </thead>\n",
       "  <tbody>\n",
       "    <tr>\n",
       "      <th>0</th>\n",
       "      <td>97</td>\n",
       "      <td>2.06</td>\n",
       "      <td>113.4</td>\n",
       "      <td>37436858</td>\n",
       "    </tr>\n",
       "    <tr>\n",
       "      <th>1</th>\n",
       "      <td>97</td>\n",
       "      <td>2.01</td>\n",
       "      <td>102.1</td>\n",
       "      <td>32742000</td>\n",
       "    </tr>\n",
       "    <tr>\n",
       "      <th>2</th>\n",
       "      <td>96</td>\n",
       "      <td>2.11</td>\n",
       "      <td>109.8</td>\n",
       "      <td>25842697</td>\n",
       "    </tr>\n",
       "    <tr>\n",
       "      <th>3</th>\n",
       "      <td>96</td>\n",
       "      <td>2.08</td>\n",
       "      <td>104.3</td>\n",
       "      <td>37199000</td>\n",
       "    </tr>\n",
       "    <tr>\n",
       "      <th>4</th>\n",
       "      <td>96</td>\n",
       "      <td>1.96</td>\n",
       "      <td>99.8</td>\n",
       "      <td>38199000</td>\n",
       "    </tr>\n",
       "    <tr>\n",
       "      <th>...</th>\n",
       "      <td>...</td>\n",
       "      <td>...</td>\n",
       "      <td>...</td>\n",
       "      <td>...</td>\n",
       "    </tr>\n",
       "    <tr>\n",
       "      <th>424</th>\n",
       "      <td>68</td>\n",
       "      <td>1.83</td>\n",
       "      <td>81.6</td>\n",
       "      <td>522738</td>\n",
       "    </tr>\n",
       "    <tr>\n",
       "      <th>425</th>\n",
       "      <td>68</td>\n",
       "      <td>1.91</td>\n",
       "      <td>90.7</td>\n",
       "      <td>79568</td>\n",
       "    </tr>\n",
       "    <tr>\n",
       "      <th>426</th>\n",
       "      <td>68</td>\n",
       "      <td>2.08</td>\n",
       "      <td>90.7</td>\n",
       "      <td>79568</td>\n",
       "    </tr>\n",
       "    <tr>\n",
       "      <th>427</th>\n",
       "      <td>68</td>\n",
       "      <td>1.91</td>\n",
       "      <td>86.2</td>\n",
       "      <td>898310</td>\n",
       "    </tr>\n",
       "    <tr>\n",
       "      <th>428</th>\n",
       "      <td>67</td>\n",
       "      <td>2.01</td>\n",
       "      <td>97.5</td>\n",
       "      <td>1416852</td>\n",
       "    </tr>\n",
       "  </tbody>\n",
       "</table>\n",
       "<p>429 rows × 4 columns</p>\n",
       "</div>"
      ],
      "text/plain": [
       "     rating  height  weight    salary\n",
       "0        97    2.06   113.4  37436858\n",
       "1        97    2.01   102.1  32742000\n",
       "2        96    2.11   109.8  25842697\n",
       "3        96    2.08   104.3  37199000\n",
       "4        96    1.96    99.8  38199000\n",
       "..      ...     ...     ...       ...\n",
       "424      68    1.83    81.6    522738\n",
       "425      68    1.91    90.7     79568\n",
       "426      68    2.08    90.7     79568\n",
       "427      68    1.91    86.2    898310\n",
       "428      67    2.01    97.5   1416852\n",
       "\n",
       "[429 rows x 4 columns]"
      ]
     },
     "execution_count": 102,
     "metadata": {},
     "output_type": "execute_result"
    }
   ],
   "source": [
    "X"
   ]
  },
  {
   "cell_type": "code",
   "execution_count": 103,
   "id": "2a107376",
   "metadata": {},
   "outputs": [],
   "source": [
    "from sklearn.preprocessing import LabelEncoder"
   ]
  },
  {
   "cell_type": "code",
   "execution_count": 104,
   "id": "19771979",
   "metadata": {},
   "outputs": [],
   "source": [
    "labelencoder = LabelEncoder()\n",
    "y = labelencoder.fit_transform(y)"
   ]
  },
  {
   "cell_type": "code",
   "execution_count": 105,
   "id": "c08619ae",
   "metadata": {},
   "outputs": [
    {
     "data": {
      "text/plain": [
       "array([2, 2, 4, 2, 5, 5, 3, 2, 5, 0, 5, 0, 5, 5, 3, 5, 0, 2, 5, 5, 6, 3,\n",
       "       5, 5, 6, 5, 5, 3, 5, 2, 2, 5, 5, 0, 0, 2, 5, 0, 5, 2, 5, 5, 0, 2,\n",
       "       1, 5, 5, 2, 5, 2, 5, 2, 5, 5, 2, 6, 5, 2, 2, 2, 3, 0, 2, 0, 0, 0,\n",
       "       5, 3, 3, 5, 3, 2, 2, 2, 2, 2, 0, 3, 0, 0, 5, 2, 2, 2, 5, 0, 2, 5,\n",
       "       5, 2, 5, 3, 0, 5, 2, 5, 2, 0, 5, 5, 5, 2, 5, 0, 0, 0, 5, 2, 2, 5,\n",
       "       2, 2, 5, 5, 5, 5, 3, 0, 5, 5, 5, 2, 5, 6, 5, 2, 5, 2, 0, 4, 2, 3,\n",
       "       5, 5, 5, 5, 2, 5, 2, 2, 0, 4, 5, 4, 2, 2, 2, 2, 5, 5, 0, 2, 5, 3,\n",
       "       1, 1, 3, 2, 2, 5, 5, 1, 0, 5, 1, 4, 5, 5, 2, 2, 5, 2, 5, 5, 2, 0,\n",
       "       0, 4, 2, 2, 5, 2, 2, 2, 3, 2, 2, 0, 5, 5, 0, 5, 2, 5, 6, 5, 5, 0,\n",
       "       5, 5, 2, 5, 5, 0, 0, 5, 5, 0, 4, 4, 5, 5, 5, 5, 5, 2, 4, 5, 2, 2,\n",
       "       2, 5, 2, 2, 2, 0, 2, 0, 5, 5, 5, 2, 5, 4, 5, 2, 2, 6, 2, 2, 3, 0,\n",
       "       6, 5, 0, 5, 5, 5, 5, 3, 5, 5, 3, 2, 4, 5, 2, 5, 3, 3, 2, 5, 0, 3,\n",
       "       2, 5, 3, 2, 5, 3, 2, 3, 2, 4, 5, 2, 2, 5, 5, 4, 5, 5, 0, 6, 5, 2,\n",
       "       2, 5, 5, 2, 2, 5, 2, 0, 6, 3, 5, 5, 2, 2, 5, 6, 5, 2, 2, 6, 6, 5,\n",
       "       5, 0, 5, 0, 2, 2, 2, 2, 5, 6, 5, 5, 5, 2, 2, 5, 5, 5, 2, 2, 5, 6,\n",
       "       3, 5, 5, 2, 5, 2, 5, 5, 6, 2, 2, 2, 5, 2, 0, 2, 5, 6, 2, 0, 5, 6,\n",
       "       5, 3, 6, 2, 5, 2, 2, 5, 3, 5, 3, 5, 5, 2, 5, 5, 0, 5, 5, 2, 5, 5,\n",
       "       2, 5, 5, 2, 2, 2, 2, 2, 5, 2, 0, 2, 2, 2, 3, 5, 2, 2, 2, 1, 3, 5,\n",
       "       2, 2, 3, 0, 2, 2, 5, 5, 3, 2, 0, 2, 5, 5, 3, 5, 3, 5, 5, 2, 5, 5,\n",
       "       6, 2, 2, 5, 3, 5, 5, 5, 2, 5, 2])"
      ]
     },
     "execution_count": 105,
     "metadata": {},
     "output_type": "execute_result"
    }
   ],
   "source": [
    "y"
   ]
  },
  {
   "cell_type": "markdown",
   "id": "56f1d22d",
   "metadata": {},
   "source": [
    "Проверим нормальность количественных признаков, используя тест с лекции "
   ]
  },
  {
   "cell_type": "markdown",
   "id": "6494f5b2",
   "metadata": {},
   "source": [
    "Если pvalue < 0.01, то будем считать, что распредление не нормально "
   ]
  },
  {
   "cell_type": "code",
   "execution_count": 20,
   "id": "3c9ab323",
   "metadata": {},
   "outputs": [],
   "source": [
    "from scipy import stats\n",
    "import statistics as st"
   ]
  },
  {
   "cell_type": "code",
   "execution_count": 106,
   "id": "f3e45111",
   "metadata": {},
   "outputs": [],
   "source": [
    "def check_normal(name):\n",
    "    print(\"pvalue for \" + name)\n",
    "    print(\"normality:\", stats.normaltest(X[name], axis=0).pvalue) \n",
    "    print(\"lognormality:\", stats.normaltest(np.log(X[name]), axis=0).pvalue) "
   ]
  },
  {
   "cell_type": "code",
   "execution_count": 107,
   "id": "3895ec0c",
   "metadata": {},
   "outputs": [
    {
     "name": "stdout",
     "output_type": "stream",
     "text": [
      "pvalue for rating\n",
      "normality: 2.7653436520763265e-19\n",
      "lognormality: 5.383238445438053e-14\n",
      "pvalue for height\n",
      "normality: 0.08864738596500196\n",
      "lognormality: 0.04283437161023435\n",
      "pvalue for weight\n",
      "normality: 0.0044195881015143094\n",
      "lognormality: 0.030643681067169058\n",
      "pvalue for salary\n",
      "normality: 2.9578135519485532e-25\n",
      "lognormality: 5.093404263285901e-07\n"
     ]
    }
   ],
   "source": [
    "for col in cols:\n",
    "    check_normal(col)"
   ]
  },
  {
   "cell_type": "markdown",
   "id": "d699c633",
   "metadata": {},
   "source": [
    "weight имеет нормальное распределение"
   ]
  },
  {
   "cell_type": "code",
   "execution_count": 110,
   "id": "3be5be7a",
   "metadata": {},
   "outputs": [],
   "source": [
    "from sklearn.model_selection import train_test_split"
   ]
  },
  {
   "cell_type": "code",
   "execution_count": 111,
   "id": "2e97a355",
   "metadata": {},
   "outputs": [],
   "source": [
    "X_train, X_test, y_train, y_test = train_test_split(X, y, shuffle=True, stratify=y, test_size=0.2)"
   ]
  },
  {
   "cell_type": "code",
   "execution_count": 108,
   "id": "183b9d5b",
   "metadata": {},
   "outputs": [],
   "source": [
    "from sklearn.ensemble import RandomForestClassifier"
   ]
  },
  {
   "cell_type": "code",
   "execution_count": 112,
   "id": "fd316757",
   "metadata": {},
   "outputs": [],
   "source": [
    "rf = RandomForestClassifier()\n",
    "rf.fit(X_train, y_train)\n",
    "y_pred = rf.predict(X_test)"
   ]
  },
  {
   "cell_type": "code",
   "execution_count": 113,
   "id": "5130d9bd",
   "metadata": {},
   "outputs": [],
   "source": [
    "from collections import Counter"
   ]
  },
  {
   "cell_type": "code",
   "execution_count": 114,
   "id": "af415395",
   "metadata": {},
   "outputs": [
    {
     "data": {
      "text/plain": [
       "Counter({2: 138, 4: 13, 5: 169, 3: 36, 0: 48, 6: 19, 1: 6})"
      ]
     },
     "execution_count": 114,
     "metadata": {},
     "output_type": "execute_result"
    }
   ],
   "source": [
    "c = Counter(y)\n",
    "c"
   ]
  },
  {
   "cell_type": "markdown",
   "id": "e2139fc2",
   "metadata": {},
   "source": [
    "Используем метрики, не чувствительные к балансу классов"
   ]
  },
  {
   "cell_type": "code",
   "execution_count": 115,
   "id": "f66a1b25",
   "metadata": {},
   "outputs": [],
   "source": [
    "from sklearn.metrics import precision_score, recall_score, f1_score"
   ]
  },
  {
   "cell_type": "code",
   "execution_count": 122,
   "id": "10671f84",
   "metadata": {},
   "outputs": [
    {
     "data": {
      "text/plain": [
       "0.7093023255813954"
      ]
     },
     "execution_count": 122,
     "metadata": {},
     "output_type": "execute_result"
    }
   ],
   "source": [
    "recall_score(y_test,y_pred, average='micro')"
   ]
  },
  {
   "cell_type": "code",
   "execution_count": 123,
   "id": "c651ca8d",
   "metadata": {},
   "outputs": [
    {
     "data": {
      "text/plain": [
       "0.7093023255813954"
      ]
     },
     "execution_count": 123,
     "metadata": {},
     "output_type": "execute_result"
    }
   ],
   "source": [
    "precision_score(y_test, y_pred, average='micro')"
   ]
  },
  {
   "cell_type": "code",
   "execution_count": 125,
   "id": "735ba5c3",
   "metadata": {},
   "outputs": [
    {
     "data": {
      "text/plain": [
       "0.7093023255813953"
      ]
     },
     "execution_count": 125,
     "metadata": {},
     "output_type": "execute_result"
    }
   ],
   "source": [
    "f1_score(y_test, y_pred, average='micro')"
   ]
  }
 ],
 "metadata": {
  "kernelspec": {
   "display_name": "Python 3",
   "language": "python",
   "name": "python3"
  },
  "language_info": {
   "codemirror_mode": {
    "name": "ipython",
    "version": 3
   },
   "file_extension": ".py",
   "mimetype": "text/x-python",
   "name": "python",
   "nbconvert_exporter": "python",
   "pygments_lexer": "ipython3",
   "version": "3.8.8"
  }
 },
 "nbformat": 4,
 "nbformat_minor": 5
}
