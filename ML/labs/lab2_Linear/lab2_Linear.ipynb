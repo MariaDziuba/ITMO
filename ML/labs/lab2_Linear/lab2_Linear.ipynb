{
 "cells": [
  {
   "cell_type": "markdown",
   "metadata": {},
   "source": [
    "# Reading data"
   ]
  },
  {
   "cell_type": "code",
   "execution_count": 1,
   "metadata": {
    "pycharm": {
     "name": "#%%\n"
    }
   },
   "outputs": [],
   "source": [
    "import numpy as np\n",
    "import math\n",
    "import tqdm"
   ]
  },
  {
   "cell_type": "code",
   "execution_count": 2,
   "metadata": {
    "pycharm": {
     "name": "#%%\n"
    }
   },
   "outputs": [],
   "source": [
    "def read_dataset(index):\n",
    "    with open('LR/' + str(index) + '.txt', 'r') as inf:\n",
    "        m = int(inf.readline())\n",
    "        n = int(inf.readline())\n",
    "        X_train, y_train = [], []\n",
    "        for i in range(n):\n",
    "            obj = list(map(int, inf.readline().split()))\n",
    "            X_train.append(obj[:-1])\n",
    "            y_train.append(obj[-1])\n",
    "        n = int(inf.readline())\n",
    "        X_test, y_test = [], []\n",
    "        for i in range(n):\n",
    "            obj = list(map(int, inf.readline().split()))\n",
    "            X_test.append(obj[:-1])\n",
    "            y_test.append(obj[-1])\n",
    "        \n",
    "    return X_train, y_train, X_test, y_test"
   ]
  },
  {
   "cell_type": "markdown",
   "metadata": {},
   "source": [
    "# Hyperparameter optimization"
   ]
  },
  {
   "cell_type": "code",
   "execution_count": 3,
   "metadata": {
    "pycharm": {
     "name": "#%%\n"
    }
   },
   "outputs": [],
   "source": [
    "import sys\n",
    "import random\n",
    "import time"
   ]
  },
  {
   "cell_type": "code",
   "execution_count": 4,
   "metadata": {},
   "outputs": [],
   "source": [
    "def calc_smape(y_predicted, y_test):\n",
    "    y_predicted = np.array(y_predicted)\n",
    "    y_test = np.array(y_test)\n",
    "    return sum((np.abs(y_predicted - y_test)) / (np.abs(y_test) + np.abs(y_predicted))) / len(y_test)"
   ]
  },
  {
   "cell_type": "code",
   "execution_count": 5,
   "metadata": {},
   "outputs": [],
   "source": [
    "def sgd_grad_smape(pred, y, x):\n",
    "    res = []\n",
    "    for x_i in x:\n",
    "        a = np.sign(pred - y) * x_i * (np.abs(pred) + np.abs(y))\n",
    "        b = np.abs(pred - y) * np.sign(pred) * x_i\n",
    "        c = np.power(np.abs(pred) + np.abs(y), 2)\n",
    "        res.append((a - b) if c != 0 else 0)\n",
    "    return res"
   ]
  },
  {
   "cell_type": "code",
   "execution_count": 6,
   "metadata": {},
   "outputs": [],
   "source": [
    "def calc_mse(y_predicted, y_test):\n",
    "    return sum((np.array(y_predicted) - np.array(y_test)) ** 2)"
   ]
  },
  {
   "cell_type": "code",
   "execution_count": 7,
   "metadata": {},
   "outputs": [],
   "source": [
    "def calc_nrmse(y_predicted, y_test):\n",
    "    return math.sqrt(sum((y_pred - y_t) ** 2 for y_pred, y_t in zip(y_predicted, y_test))) / len(y_test) / (max(y_test) - min(y_test))"
   ]
  },
  {
   "cell_type": "code",
   "execution_count": 8,
   "metadata": {},
   "outputs": [],
   "source": [
    "class SGDClassifier:\n",
    "    def __init__(self, isMse, epochs_count=2000, lr=1e-3, reg_coef=1, batch_size=1, f_coef=1e-3):\n",
    "        self.epochs_count = epochs_count\n",
    "        self.lr = lr\n",
    "        self.reg_coef = reg_coef\n",
    "        self.batch_size = batch_size\n",
    "        self.best_error = 1e25\n",
    "        self.best_params = []\n",
    "        self.empirical_risk = 0\n",
    "        self.empirical_risk_storage = []\n",
    "        self.isMse = isMse\n",
    "        self.f_coef = f_coef\n",
    "\n",
    "    def fit(self, X_train, y_train, process_steps=True):\n",
    "        self.X_train = [line + [1] for line in X_train]\n",
    "        self.y_train = y_train\n",
    "        self.batch_size = min(self.batch_size, len(y_train))\n",
    "\n",
    "        X_train_flat = [x for line in X_train for x in line]\n",
    "        max_value = max(*X_train_flat, *self.y_train)\n",
    "        min_value = min(*X_train_flat, *self.y_train)\n",
    "        self.delta = max(abs(max_value), abs(min_value))\n",
    "        self.X_train = [[x / self.delta for x in line] for line in self.X_train]\n",
    "        self.y_train = [y / self.delta for y in y_train]\n",
    "\n",
    "        self.params_count = len(self.X_train[0])\n",
    "        self.answer = [random.uniform(-1 / 2 / len(self.X_train[0]), 1 / 2 / len(self.X_train[0])) for _ in\n",
    "                       range(self.params_count)]\n",
    "        if self.isMse:\n",
    "            self.empirical_risk = calc_mse(self.predict(X_train), self.y_train) / len(y_train)\n",
    "            self.empirical_risk_storage.append(self.empirical_risk)\n",
    "        else:\n",
    "            self.empirical_risk = calc_smape(self.predict(X_train), self.y_train) / len(y_train)\n",
    "            self.empirical_risk_storage.append(self.empirical_risk)\n",
    "            \n",
    "        if process_steps:\n",
    "            for idx in range(self.epochs_count):\n",
    "                self.process_step(idx)\n",
    "            return self.answer\n",
    "\n",
    "    def process_step(self, i):\n",
    "        stochastic_element = self.X_train[i]\n",
    "\n",
    "        y_predicted = self.predict([stochastic_element])[0]\n",
    "        \n",
    "        error = y_predicted - self.y_train[i]\n",
    "        \n",
    "        y = self.y_train[i] \n",
    "\n",
    "        if abs(error) < self.best_error:\n",
    "            self.best_error = abs(error)\n",
    "            self.best_params = self.answer\n",
    "            \n",
    "        if self.isMse:\n",
    "            gradient = [2 * se * error for se in stochastic_element]\n",
    "        else:\n",
    "            gradient = sgd_grad_smape(y_predicted, y, stochastic_element)\n",
    "\n",
    "        for j in range(self.params_count):\n",
    "            self.answer[j] -= self.lr * gradient[j] + self.reg_coef * self.answer[j]\n",
    "            self.empirical_risk = self.f_coef * 1e-20 + (1 - self.f_coef) * self.empirical_risk\n",
    "            self.empirical_risk_storage.append(self.empirical_risk)\n",
    "\n",
    "    def predict(self, X_test):\n",
    "        return [sum(w * x_st for w, x_st in zip(self.answer, element)) for element in X_test]\n",
    "    \n",
    "    def get_empirical_risk_storage(self):\n",
    "        return self.empirical_risk_storage"
   ]
  },
  {
   "cell_type": "code",
   "execution_count": 9,
   "metadata": {
    "pycharm": {
     "name": "#%%\n"
    }
   },
   "outputs": [],
   "source": [
    "def hyperparameter_optimization(isMse, X_train, y_train, X_test, y_test, Model):\n",
    "    best_nrmse = 1\n",
    "    for epochs_count in tqdm.tqdm(range(1000, 11000, 1000)):\n",
    "        for _ in range(10):\n",
    "            lr = np.exp(random.uniform(-9, 0))\n",
    "            reg_coef = np.exp(random.uniform(-9, 0))\n",
    "            f_coef = np.exp(random.uniform(-9, 0))\n",
    "            params = [lr, reg_coef, f_coef]\n",
    "            model = Model(isMse, 2, lr, reg_coef, f_coef)\n",
    "            model.fit(X_train, y_train)\n",
    "            y_predicted = model.predict(X_test)\n",
    "            nrmse = calc_nrmse(y_predicted, y_test)\n",
    "            if nrmse < best_nrmse:\n",
    "                best_nrmse = nrmse\n",
    "                best_params = params\n",
    "                print(\"Finished with best params\", best_params, nrmse)\n",
    "    print('Overall best params:', best_params)\n",
    "    print('Overall best nrmse:', best_nrmse)\n",
    "    return best_params, best_nrmse"
   ]
  },
  {
   "cell_type": "markdown",
   "metadata": {},
   "source": [
    "# Analyzing best model"
   ]
  },
  {
   "cell_type": "code",
   "execution_count": 24,
   "metadata": {
    "pycharm": {
     "name": "#%%\n"
    }
   },
   "outputs": [],
   "source": [
    "import seaborn as sns\n",
    "import pandas as pd"
   ]
  },
  {
   "cell_type": "code",
   "execution_count": 25,
   "metadata": {
    "pycharm": {
     "name": "#%%\n"
    }
   },
   "outputs": [],
   "source": [
    "def plot(test, train):\n",
    "    plot_data = pd.DataFrame({\"test\": pd.Series(test), \"train\": pd.Series(train)})\n",
    "    sns.lineplot(data=plot_data)"
   ]
  },
  {
   "cell_type": "markdown",
   "metadata": {},
   "source": [
    "# Stochastic gradient descent"
   ]
  },
  {
   "cell_type": "markdown",
   "metadata": {},
   "source": [
    "MSE"
   ]
  },
  {
   "cell_type": "code",
   "execution_count": 82,
   "metadata": {
    "pycharm": {
     "name": "#%%\n"
    }
   },
   "outputs": [
    {
     "name": "stderr",
     "output_type": "stream",
     "text": [
      "  0%|          | 0/10 [00:00<?, ?it/s]<ipython-input-21-fd3cd4f43acd>:2: DeprecationWarning: Calling np.sum(generator) is deprecated, and in the future will give a different result. Use np.sum(np.fromiter(generator)) or the python sum builtin instead.\n",
      "  return math.sqrt(np.sum((y_pred - y_t) ** 2 for y_pred, y_t in zip(y_predicted, y_test))) / len(y_test) / (max(y_test) - min(y_test))\n"
     ]
    },
    {
     "name": "stdout",
     "output_type": "stream",
     "text": [
      "Finished with best params [0.00683361710979402, 0.3688716178569003, 0.046157932063941004] 0.030208802215490164\n",
      "Finished with best params [0.00025658541707257725, 0.5551064520936531, 0.00024877708363990267] 0.030069915450984443\n",
      "Finished with best params [0.0002697324532824399, 0.004049428864001342, 0.0003877317316788141] 0.030028205688224376\n"
     ]
    },
    {
     "name": "stderr",
     "output_type": "stream",
     "text": [
      " 40%|████      | 4/10 [00:07<00:11,  1.87s/it]"
     ]
    },
    {
     "name": "stdout",
     "output_type": "stream",
     "text": [
      "Finished with best params [0.0005388146252171093, 0.020039916206819434, 0.00041594652285615756] 0.03002457751894041\n",
      "Finished with best params [0.00012472481944036042, 0.1963788182604488, 0.3851600769017685] 0.030022111169125853\n"
     ]
    },
    {
     "name": "stderr",
     "output_type": "stream",
     "text": [
      " 90%|█████████ | 9/10 [00:17<00:01,  1.83s/it]"
     ]
    },
    {
     "name": "stdout",
     "output_type": "stream",
     "text": [
      "Finished with best params [0.0003219923006056728, 0.0004678581947714788, 0.6810141796169158] 0.03000416602405542\n"
     ]
    },
    {
     "name": "stderr",
     "output_type": "stream",
     "text": [
      "100%|██████████| 10/10 [00:18<00:00,  1.89s/it]"
     ]
    },
    {
     "name": "stdout",
     "output_type": "stream",
     "text": [
      "Overall best params: [0.0003219923006056728, 0.0004678581947714788, 0.6810141796169158]\n",
      "Overall best nrmse: 0.03000416602405542\n"
     ]
    },
    {
     "name": "stderr",
     "output_type": "stream",
     "text": [
      "\n"
     ]
    },
    {
     "data": {
      "text/plain": [
       "([0.0003219923006056728, 0.0004678581947714788, 0.6810141796169158],\n",
       " 0.03000416602405542)"
      ]
     },
     "execution_count": 82,
     "metadata": {},
     "output_type": "execute_result"
    }
   ],
   "source": [
    "X_train, y_train, X_test, y_test = read_dataset(1)\n",
    "hyperparameter_optimization(True, X_train, y_train, X_test, y_test, SGDClassifier)"
   ]
  },
  {
   "cell_type": "markdown",
   "metadata": {},
   "source": [
    "SMAPE"
   ]
  },
  {
   "cell_type": "code",
   "execution_count": 15,
   "metadata": {},
   "outputs": [],
   "source": [
    "X_train, y_train, X_test, y_test = read_dataset(1)"
   ]
  },
  {
   "cell_type": "code",
   "execution_count": 83,
   "metadata": {},
   "outputs": [
    {
     "name": "stderr",
     "output_type": "stream",
     "text": [
      "  0%|          | 0/10 [00:00<?, ?it/s]<ipython-input-21-fd3cd4f43acd>:2: DeprecationWarning: Calling np.sum(generator) is deprecated, and in the future will give a different result. Use np.sum(np.fromiter(generator)) or the python sum builtin instead.\n",
      "  return math.sqrt(np.sum((y_pred - y_t) ** 2 for y_pred, y_t in zip(y_predicted, y_test))) / len(y_test) / (max(y_test) - min(y_test))\n"
     ]
    },
    {
     "name": "stdout",
     "output_type": "stream",
     "text": [
      "Finished with best params [0.47607900512771106, 0.2666879099087443, 0.018967000841165812] 0.030197556921595373\n",
      "Finished with best params [0.0007270330662208068, 0.0001772266203609994, 0.010769361325531867] 0.03013800346196807\n",
      "Finished with best params [0.005348403398878158, 0.00557954648481663, 0.00020752051879903581] 0.03002695936696543\n"
     ]
    },
    {
     "name": "stderr",
     "output_type": "stream",
     "text": [
      "\r",
      " 10%|█         | 1/10 [00:01<00:17,  1.93s/it]"
     ]
    },
    {
     "name": "stdout",
     "output_type": "stream",
     "text": [
      "Finished with best params [0.010014194973105411, 0.0013318695554378592, 0.001302324538270383] 0.030022563374861807\n",
      "Finished with best params [0.7620298911539111, 0.5268809022607328, 0.0073307146069250114] 0.0271884724428379\n"
     ]
    },
    {
     "name": "stderr",
     "output_type": "stream",
     "text": [
      "100%|██████████| 10/10 [00:18<00:00,  1.88s/it]"
     ]
    },
    {
     "name": "stdout",
     "output_type": "stream",
     "text": [
      "Overall best params: [0.7620298911539111, 0.5268809022607328, 0.0073307146069250114]\n",
      "Overall best nrmse: 0.0271884724428379\n"
     ]
    },
    {
     "name": "stderr",
     "output_type": "stream",
     "text": [
      "\n"
     ]
    },
    {
     "data": {
      "text/plain": [
       "([0.7620298911539111, 0.5268809022607328, 0.0073307146069250114],\n",
       " 0.0271884724428379)"
      ]
     },
     "execution_count": 83,
     "metadata": {},
     "output_type": "execute_result"
    }
   ],
   "source": [
    "hyperparameter_optimization(False, X_train, y_train, X_test, y_test, SGDClassifier)"
   ]
  },
  {
   "cell_type": "code",
   "execution_count": 24,
   "metadata": {
    "pycharm": {
     "name": "#%%\n"
    }
   },
   "outputs": [
    {
     "name": "stderr",
     "output_type": "stream",
     "text": [
      "100%|██████████| 10000/10000 [00:06<00:00, 1539.93it/s]\n"
     ]
    }
   ],
   "source": [
    "best_params = [5000, 0.001, 0.9]\n",
    "sgd = SGDClassifier(*best_params)\n",
    "sgd.fit(X_train, y_train, False)\n",
    "test_nrmses = []\n",
    "train_nrmses = []\n",
    "for i in tqdm.tqdm(range(10000)):\n",
    "    sgd.process_step()\n",
    "    if i % 100 == 0:\n",
    "        y_predicted_test = sgd.predict(X_test)\n",
    "        test_nrmses.append(count_nrmse(y_predicted_test, y_test))\n",
    "        y_predicted_train = sgd.predict(X_train)\n",
    "        train_nrmses.append(count_nrmse(y_predicted_train, y_train))"
   ]
  },
  {
   "cell_type": "code",
   "execution_count": 25,
   "metadata": {
    "pycharm": {
     "name": "#%%\n"
    }
   },
   "outputs": [],
   "source": [
    "stochastic_overall = test_nrmses"
   ]
  },
  {
   "cell_type": "markdown",
   "metadata": {},
   "source": [
    "# Least squares"
   ]
  },
  {
   "cell_type": "code",
   "execution_count": 12,
   "metadata": {
    "pycharm": {
     "name": "#%%\n"
    }
   },
   "outputs": [],
   "source": [
    "class LSClassifier:\n",
    "    def __init__(self, reg_coef):\n",
    "        self.reg_coef = reg_coef\n",
    "        \n",
    "    def fit(self, X_train, y_train):\n",
    "        X_train = np.array(X_train)\n",
    "        y_train = np.array(y_train)\n",
    "        _, size = X_train.shape\n",
    "        self.answer = np.matmul(np.matmul(\n",
    "                                  np.linalg.inv(np.matmul(np.transpose(X_train), X_train) + self.reg_coef * np.identity(size)),\n",
    "                                  np.transpose(X_train)), y_train)\n",
    "    def predict(self, X_test):\n",
    "        return [sum(w * x_st for w, x_st in zip(self.answer.tolist(), element)) for element in X_test]"
   ]
  },
  {
   "cell_type": "code",
   "execution_count": 13,
   "metadata": {},
   "outputs": [],
   "source": [
    "def hyperparameter_optimization_ls(X_train, y_train, X_test, y_test, Model):\n",
    "    best_nrmse = 1\n",
    "    for epochs_count in tqdm.tqdm(range(1000, 11000, 1000)):\n",
    "        for _ in range(10):\n",
    "            reg_coef = np.exp(random.uniform(-9, 0))\n",
    "            params = [reg_coef]\n",
    "            model = Model(reg_coef)\n",
    "            model.fit(X_train, y_train)\n",
    "            y_predicted = model.predict(X_test)\n",
    "            nrmse = calc_nrmse(y_predicted, y_test)\n",
    "            if nrmse < best_nrmse:\n",
    "                best_nrmse = nrmse\n",
    "                best_params = params\n",
    "                print(\"Finished with best params\", best_params, nrmse)\n",
    "    print('Overall best params:', best_params)\n",
    "    print('Overall best nrmse:', best_nrmse)\n",
    "    return best_params, best_nrmse"
   ]
  },
  {
   "cell_type": "code",
   "execution_count": 51,
   "metadata": {},
   "outputs": [
    {
     "name": "stderr",
     "output_type": "stream",
     "text": [
      "  0%|          | 0/10 [00:00<?, ?it/s]<ipython-input-21-fd3cd4f43acd>:2: DeprecationWarning: Calling np.sum(generator) is deprecated, and in the future will give a different result. Use np.sum(np.fromiter(generator)) or the python sum builtin instead.\n",
      "  return math.sqrt(np.sum((y_pred - y_t) ** 2 for y_pred, y_t in zip(y_predicted, y_test))) / len(y_test) / (max(y_test) - min(y_test))\n",
      " 70%|███████   | 7/10 [00:26<00:11,  3.76s/it]"
     ]
    },
    {
     "name": "stdout",
     "output_type": "stream",
     "text": [
      "Finished with best params [0.009428624981276525] 0.9768866216073795\n",
      "Finished with best params [0.12980080512766853] 0.9005724470332871\n"
     ]
    },
    {
     "name": "stderr",
     "output_type": "stream",
     "text": [
      "100%|██████████| 10/10 [00:38<00:00,  3.82s/it]"
     ]
    },
    {
     "name": "stdout",
     "output_type": "stream",
     "text": [
      "Overall best params: [0.12980080512766853]\n",
      "Overall best nrmse: 0.9005724470332871\n"
     ]
    },
    {
     "name": "stderr",
     "output_type": "stream",
     "text": [
      "\n"
     ]
    },
    {
     "data": {
      "text/plain": [
       "([0.12980080512766853], 0.9005724470332871)"
      ]
     },
     "execution_count": 51,
     "metadata": {},
     "output_type": "execute_result"
    }
   ],
   "source": [
    "hyperparameter_optimization_ls(X_train, y_train, X_test, y_test, LSClassifier)"
   ]
  },
  {
   "cell_type": "markdown",
   "metadata": {},
   "source": [
    "# Analysis"
   ]
  },
  {
   "cell_type": "markdown",
   "metadata": {},
   "source": [
    "Постройте график зависимости ошибки SMAPE и MSE на тестовом множестве от параметра регуляризации для метода наименьших квадратов."
   ]
  },
  {
   "cell_type": "code",
   "execution_count": 18,
   "metadata": {},
   "outputs": [],
   "source": [
    "smapes = []\n",
    "mses = []\n",
    "reg_coef = 0\n",
    "for reg_coef in np.arange(0, 1, 0.01):\n",
    "    params = [reg_coef]\n",
    "    model = LSClassifier(reg_coef)\n",
    "    model.fit(X_train, y_train)\n",
    "    y_predicted = model.predict(X_test)\n",
    "    smape = calc_smape(y_predicted, y_test)\n",
    "    smapes.append(smape)\n",
    "    mse = calc_mse(y_predicted, y_test)\n",
    "    mses.append(mse)"
   ]
  },
  {
   "cell_type": "code",
   "execution_count": 21,
   "metadata": {},
   "outputs": [],
   "source": [
    "import seaborn as sns\n",
    "import matplotlib.pyplot as plt\n",
    "import pandas as pd"
   ]
  },
  {
   "cell_type": "code",
   "execution_count": 22,
   "metadata": {},
   "outputs": [
    {
     "data": {
      "text/plain": [
       "<matplotlib.axes._subplots.AxesSubplot at 0x7f7f3296efa0>"
      ]
     },
     "execution_count": 22,
     "metadata": {},
     "output_type": "execute_result"
    },
    {
     "data": {
      "image/png": "[encoded data removed]",
      "text/plain": [
       "<Figure size 432x288 with 1 Axes>"
      ]
     },
     "metadata": {
      "needs_background": "light"
     },
     "output_type": "display_data"
    }
   ],
   "source": [
    "plot_data = pd.DataFrame({'regularization coeff' : pd.Series(np.arange(0, 1, 0.01)), 'SMAPE' : pd.Series(smapes)})\n",
    "sns.lineplot(data=plot_data, x=\"regularization coeff\", y='SMAPE')"
   ]
  },
  {
   "cell_type": "code",
   "execution_count": 74,
   "metadata": {},
   "outputs": [
    {
     "data": {
      "text/plain": [
       "<matplotlib.axes._subplots.AxesSubplot at 0x7fb2281d4d90>"
      ]
     },
     "execution_count": 74,
     "metadata": {},
     "output_type": "execute_result"
    },
    {
     "data": {
      "image/png": "[encoded data removed]",
      "text/plain": [
       "<Figure size 432x288 with 1 Axes>"
      ]
     },
     "metadata": {
      "needs_background": "light"
     },
     "output_type": "display_data"
    }
   ],
   "source": [
    "plot_data = pd.DataFrame({'regularization coeff' : pd.Series(np.arange(0, 1, 0.05)), 'MSE' : pd.Series(mses)})\n",
    "sns.lineplot(data=plot_data, x=\"regularization coeff\", y='MSE')"
   ]
  },
  {
   "cell_type": "markdown",
   "metadata": {},
   "source": [
    "Постройте график зависимости экспоненциального скользящего среднего эмпирического риска на тренировочном множестве для градиентных спусков.\n"
   ]
  },
  {
   "cell_type": "code",
   "execution_count": 76,
   "metadata": {},
   "outputs": [
    {
     "data": {
      "text/plain": [
       "1164"
      ]
     },
     "execution_count": 76,
     "metadata": {},
     "output_type": "execute_result"
    }
   ],
   "source": [
    "len(X_train)"
   ]
  },
  {
   "cell_type": "code",
   "execution_count": 91,
   "metadata": {},
   "outputs": [
    {
     "name": "stdout",
     "output_type": "stream",
     "text": [
      "\n"
     ]
    }
   ],
   "source": [
    "#     params = [lr, reg_coef, f_coef]\n",
    "params_smape = [0.7620298911539111, 0.5268809022607328, 0.0073307146069250114]\n",
    "params_mse = [0.0003219923006056728, 0.0004678581947714788, 0.6810141796169158]\n",
    "    \n",
    "smape_model = SGDClassifier(False, epochs_count=2, lr = 0.7620298911539111, reg_coef=0.5268809022607328, f_coef=0.0073307146069250114)\n",
    "mse_model = SGDClassifier(True, epochs_count=2, lr=0.0003219923006056728, reg_coef=0.0004678581947714788, f_coef=0.6810141796169158)\n",
    "    \n",
    "smape_model.fit(X_train, y_train)\n",
    "mse_model.fit(X_train, y_train)\n",
    "print()"
   ]
  },
  {
   "cell_type": "code",
   "execution_count": 99,
   "metadata": {},
   "outputs": [
    {
     "data": {
      "text/plain": [
       "<matplotlib.axes._subplots.AxesSubplot at 0x7fb225f39820>"
      ]
     },
     "execution_count": 99,
     "metadata": {},
     "output_type": "execute_result"
    },
    {
     "data": {
      "image/png": "[encoded data removed]",
      "text/plain": [
       "<Figure size 432x288 with 1 Axes>"
      ]
     },
     "metadata": {
      "needs_background": "light"
     },
     "output_type": "display_data"
    }
   ],
   "source": [
    "plot_data = pd.DataFrame({'step (SMAPE)': np.arange(0, 859, 1), 'empirical risk': smape_model.get_empirical_risk_storage()})\n",
    "sns.lineplot(data=plot_data, x= 'step (SMAPE)', y= 'empirical risk')"
   ]
  },
  {
   "cell_type": "code",
   "execution_count": 100,
   "metadata": {},
   "outputs": [
    {
     "data": {
      "text/plain": [
       "<matplotlib.axes._subplots.AxesSubplot at 0x7fb228297c10>"
      ]
     },
     "execution_count": 100,
     "metadata": {},
     "output_type": "execute_result"
    },
    {
     "data": {
      "image/png": "[encoded data removed]",
      "text/plain": [
       "<Figure size 432x288 with 1 Axes>"
      ]
     },
     "metadata": {
      "needs_background": "light"
     },
     "output_type": "display_data"
    }
   ],
   "source": [
    "plot_data = pd.DataFrame({'step (MSE)': np.arange(0, 859, 1), 'empirical risk': mse_model.get_empirical_risk_storage()})\n",
    "sns.lineplot(data=plot_data, x= 'step (MSE)', y= 'empirical risk')"
   ]
  },
  {
   "cell_type": "markdown",
   "metadata": {},
   "source": [
    "Оцените каждый из трёх методов на тестовом множестве данных при помощи NRMSE и SMAPE."
   ]
  },
  {
   "cell_type": "code",
   "execution_count": 101,
   "metadata": {},
   "outputs": [],
   "source": [
    "ls_model = LSClassifier(0.12980080512766853)\n",
    "ls_model.fit(X_train, y_train)"
   ]
  },
  {
   "cell_type": "code",
   "execution_count": 106,
   "metadata": {},
   "outputs": [],
   "source": [
    "y_predicted = ls_model.predict(X_test)\n",
    "ls_nrmse = calc_nrmse(y_predicted, y_test)\n",
    "ls_smape = calc_smape(y_predicted, y_test)"
   ]
  },
  {
   "cell_type": "code",
   "execution_count": 107,
   "metadata": {},
   "outputs": [
    {
     "name": "stdout",
     "output_type": "stream",
     "text": [
      "Least Squares NRMSE 0.9005724470332871\n",
      "Least Squares SMAPE 0.8935805218336959\n"
     ]
    }
   ],
   "source": [
    "print('Least Squares NRMSE', ls_nrmse)\n",
    "print('Least Squares SMAPE', ls_smape)"
   ]
  },
  {
   "cell_type": "code",
   "execution_count": 108,
   "metadata": {},
   "outputs": [],
   "source": [
    "y_predicted = smape_model.predict(X_test)\n",
    "smape_model_nrmse = calc_nrmse(y_predicted, y_test)\n",
    "smape_model_smape = calc_smape(y_predicted, y_test)"
   ]
  },
  {
   "cell_type": "code",
   "execution_count": 109,
   "metadata": {},
   "outputs": [
    {
     "name": "stdout",
     "output_type": "stream",
     "text": [
      "SGD (SMAPE) NRMSE 0.027192318314495464\n",
      "SGD (SMAPE) SMAPE 0.7656533892727279\n"
     ]
    }
   ],
   "source": [
    "print('SGD (SMAPE) NRMSE', smape_model_nrmse)\n",
    "print('SGD (SMAPE) SMAPE', smape_model_smape)"
   ]
  },
  {
   "cell_type": "code",
   "execution_count": 110,
   "metadata": {},
   "outputs": [],
   "source": [
    "y_predicted = mse_model.predict(X_test)\n",
    "mse_model_nrmse = calc_nrmse(y_predicted, y_test)\n",
    "mse_model_smape = calc_smape(y_predicted, y_test)"
   ]
  },
  {
   "cell_type": "code",
   "execution_count": 111,
   "metadata": {},
   "outputs": [
    {
     "name": "stdout",
     "output_type": "stream",
     "text": [
      "SGD (SMAPE) NRMSE 0.030061132381747162\n",
      "SGD (SMAPE) SMAPE 0.9996524711067802\n"
     ]
    }
   ],
   "source": [
    "print('SGD (SMAPE) NRMSE', mse_model_nrmse)\n",
    "print('SGD (SMAPE) SMAPE', mse_model_smape)"
   ]
  },
  {
   "cell_type": "code",
   "execution_count": null,
   "metadata": {},
   "outputs": [],
   "source": []
  }
 ],
 "metadata": {
  "kernelspec": {
   "display_name": "Python 3",
   "language": "python",
   "name": "python3"
  },
  "language_info": {
   "codemirror_mode": {
    "name": "ipython",
    "version": 3
   },
   "file_extension": ".py",
   "mimetype": "text/x-python",
   "name": "python",
   "nbconvert_exporter": "python",
   "pygments_lexer": "ipython3",
   "version": "3.8.8"
  },
  "pycharm": {
   "stem_cell": {
    "cell_type": "raw",
    "metadata": {
     "collapsed": false
    },
    "source": []
   }
  }
 },
 "nbformat": 4,
 "nbformat_minor": 1
}
