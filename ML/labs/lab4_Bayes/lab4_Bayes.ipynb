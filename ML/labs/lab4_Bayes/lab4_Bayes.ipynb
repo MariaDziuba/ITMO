{
 "cells": [
  {
   "cell_type": "code",
   "execution_count": 1,
   "metadata": {},
   "outputs": [],
   "source": [
    "import os\n",
    "from tqdm import tqdm"
   ]
  },
  {
   "cell_type": "markdown",
   "metadata": {},
   "source": [
    "## Reading data"
   ]
  },
  {
   "cell_type": "code",
   "execution_count": 3,
   "metadata": {},
   "outputs": [],
   "source": [
    "messages_dir = 'messages/part'\n",
    "messages = []\n",
    "\n",
    "for i in range(1, 11):\n",
    "    messages_part = []\n",
    "    for message_filename in os.listdir(messages_dir + str(i)):\n",
    "        message_file = open(messages_dir + str(i) + \"/\" + message_filename, \"r\")\n",
    "        subject = message_file.readline()[9:-1]\n",
    "        message_file.readline()\n",
    "        text = message_file.readline()[:-1]\n",
    "        is_spam = 2 if 'spmsg' in message_filename else 1\n",
    "        messages_part.append([subject + ' ' + text, is_spam])\n",
    "    messages.append(messages_part)"
   ]
  },
  {
   "cell_type": "markdown",
   "metadata": {},
   "source": [
    "## Accuracy score "
   ]
  },
  {
   "cell_type": "code",
   "execution_count": 4,
   "metadata": {},
   "outputs": [],
   "source": [
    "def get_accuracy_score(y_true, y_predicted):\n",
    "    return sum(1 if y_true_i == y_predicted_i else 0 for y_true_i, y_predicted_i in zip(y_true, y_predicted)) / len(y_true)"
   ]
  },
  {
   "cell_type": "markdown",
   "metadata": {},
   "source": [
    "## Cross Validation"
   ]
  },
  {
   "cell_type": "code",
   "execution_count": 6,
   "metadata": {},
   "outputs": [],
   "source": [
    "import math\n",
    "from collections import defaultdict"
   ]
  },
  {
   "cell_type": "code",
   "execution_count": 70,
   "metadata": {},
   "outputs": [],
   "source": [
    "class BayesClassifier:\n",
    "    def __init__(self, alpha, gram_len, lambdas):\n",
    "        self.classes = defaultdict(int)\n",
    "        self.frequencies = defaultdict(int)\n",
    "        self.probabilities = defaultdict(int)\n",
    "        self.grams = set()\n",
    "        self.alpha = alpha\n",
    "        self.gram_len = gram_len\n",
    "        self.lambdas = lambdas\n",
    "        self.log_probs = defaultdict(float)\n",
    "        self.back_log_probs = defaultdict(float)\n",
    "\n",
    "    def create_n_grams(self, labels, lines):\n",
    "        for label, line in zip(labels, lines):\n",
    "            line_grams = set()\n",
    "            self.classes[label] += 1\n",
    "            for i in range(len(line) - self.gram_len + 1):\n",
    "                gram = ' '.join(line[i: i + self.gram_len])\n",
    "                self.grams.add(gram)\n",
    "                line_grams.add(gram)\n",
    "            for gram in line_grams:\n",
    "                self.frequencies[label, gram] += 1\n",
    "\n",
    "    def create_conditional_probs(self):\n",
    "        for label in self.classes.keys():\n",
    "            for gram in self.grams:\n",
    "                self.probabilities[gram, label] = (self.frequencies[label, gram] + self.alpha) / (\n",
    "                        self.classes[label] + self.alpha * 2)\n",
    "                self.log_probs[gram, label] = math.log(self.probabilities[gram, label])\n",
    "                self.back_log_probs[gram, label] = math.log(1 - self.probabilities[gram, label])\n",
    "\n",
    "    def fit(self, X, y):\n",
    "        self.create_n_grams(y, X)\n",
    "        self.create_conditional_probs()\n",
    "    #p(x,y) = p(y)*p(x/y)\n",
    "\n",
    "    def predict(self, X):\n",
    "        resulting_probs = {}\n",
    "        grams = [' '.join(str(x) for x in X[i: i + self.gram_len] for i in range(len(X) - self.gram_len + 1))]\n",
    "        for label in self.classes.keys():\n",
    "            if self.classes[label] != 0:\n",
    "                resulting_probs[label] = math.log(self.classes[label] / sum(self.classes.values()) * self.lambdas[\n",
    "                    label - 1]) + self.get_back_conditional_probs(label, grams)\n",
    "            else:\n",
    "                resulting_probs[label] = 0\n",
    "        max_prob = max(i for i in resulting_probs.values() if i < 0)\n",
    "        for label, prob in resulting_probs.items():\n",
    "            resulting_probs[label] = math.exp(prob - max_prob)\n",
    "        sum_prob = sum(resulting_probs.values())\n",
    "        for label, prob in resulting_probs.items():\n",
    "            resulting_probs[label] = prob / sum_prob\n",
    "        return resulting_probs\n",
    "\n",
    "    def get_back_conditional_probs(self, label, grams):\n",
    "        prob = 0\n",
    "        for w in self.grams:\n",
    "            if w in grams:\n",
    "                if self.probabilities[w, label] != 0:\n",
    "                    prob += self.log_probs[w, label]\n",
    "                else:\n",
    "                    prob = 0\n",
    "                    break\n",
    "            else:\n",
    "                if self.probabilities[w, label] != 1:\n",
    "                    prob += self.back_log_probs[w, label]\n",
    "                else:\n",
    "                    prob = 0\n",
    "                    break\n",
    "        return prob"
   ]
  },
  {
   "cell_type": "code",
   "execution_count": 8,
   "metadata": {},
   "outputs": [],
   "source": [
    "from collections import Counter \n",
    "\n",
    "def most_frequent(l, count): \n",
    "    occurence_count = Counter(l) \n",
    "    return [x[0] for x in occurence_count.most_common(count)]"
   ]
  },
  {
   "cell_type": "code",
   "execution_count": 58,
   "metadata": {},
   "outputs": [],
   "source": [
    "def cross_validate(messages, classifier_params):\n",
    "    scores = []\n",
    "    for i in range(len(messages)):\n",
    "        test = messages[i]\n",
    "        train = messages[:i] + messages[i + 1:]\n",
    "        X_train = []\n",
    "        y_train = []\n",
    "        for messages_part in train:\n",
    "            for message in messages_part:\n",
    "                X_train.append(most_frequent(message[0].split(), 25))\n",
    "                y_train.append(message[1])\n",
    "        classifier = BayesClassifier(*classifier_params)\n",
    "        classifier.fit(X_train, y_train)\n",
    "        y_true = []\n",
    "        y_predicted = []\n",
    "        for message in test:\n",
    "            X_test = message[0].split()\n",
    "            X_test = most_frequent(X_test, 25)\n",
    "            y_test = message[1]\n",
    "            y_true.append(y_test)\n",
    "            res = classifier.predict(X_test)\n",
    "            y_predicted.append(max(res, key=res.get))\n",
    "        scores.append(get_accuracy_score(y_true, y_predicted))\n",
    "    return sum(scores) / len(scores)"
   ]
  },
  {
   "cell_type": "markdown",
   "metadata": {},
   "source": [
    "## Hyperparameter Optimization"
   ]
  },
  {
   "cell_type": "code",
   "execution_count": 59,
   "metadata": {},
   "outputs": [],
   "source": [
    "def hyperparameter_optimization():\n",
    "    best_accuracy_score = -1\n",
    "    best_params = None\n",
    "    for alpha in [1e-5, 1e-2]:\n",
    "        for gram_len in [1, 2, 3]:\n",
    "            accuracy_score = cross_validate(messages, [alpha, gram_len, [1, 1]])\n",
    "            if best_accuracy_score < accuracy_score:\n",
    "                best_accuracy_score = accuracy_score\n",
    "                best_params = [alpha, gram_len, [1, 1]]\n",
    "    print('Best accuracy score is {0} for params {1}'.format(best_accuracy_score, best_params))\n",
    "    return best_accuracy_score, best_params"
   ]
  },
  {
   "cell_type": "markdown",
   "metadata": {},
   "source": [
    "## Model analysis"
   ]
  },
  {
   "cell_type": "code",
   "execution_count": 60,
   "metadata": {},
   "outputs": [
    {
     "name": "stdout",
     "output_type": "stream",
     "text": [
      "Best accuracy score is 0.9770642201834863 for params [0.01, 1, [1, 1]]\n"
     ]
    },
    {
     "data": {
      "text/plain": [
       "(0.9770642201834863, [0.01, 1, [1, 1]])"
      ]
     },
     "execution_count": 60,
     "metadata": {},
     "output_type": "execute_result"
    }
   ],
   "source": [
    "hyperparameter_optimization()"
   ]
  },
  {
   "cell_type": "markdown",
   "metadata": {},
   "source": [
    "## RocCurve"
   ]
  },
  {
   "cell_type": "code",
   "execution_count": 61,
   "metadata": {},
   "outputs": [],
   "source": [
    "from sklearn.metrics import roc_curve\n",
    "import matplotlib.pyplot as plt\n",
    "def plot_roc_curve(y_true, y_pred):\n",
    "    fpr, tpr, thresholds = roc_curve(y_true, y_pred)\n",
    "    plt.plot(fpr, tpr, color='orange', label='ROC')\n",
    "    plt.plot([0, 1], [0, 1], color='darkblue', linestyle='--')\n",
    "    plt.xlabel('False Positive Rate')\n",
    "    plt.ylabel('True Positive Rate')\n",
    "    plt.title('ROC Curve')\n",
    "    plt.legend()\n",
    "    plt.show()"
   ]
  },
  {
   "cell_type": "code",
   "execution_count": 74,
   "metadata": {},
   "outputs": [],
   "source": [
    "classifier = BayesClassifier(0.01, 1, [1, 1])\n",
    "X_train = []\n",
    "y_train = []\n",
    "for messages_part in messages:\n",
    "    for message in messages_part:\n",
    "        X_train.append(message[0].split())\n",
    "        y_train.append(message[1])\n",
    "classifier.fit(X_train, y_train)\n",
    "y_pred_probabilities = []\n",
    "for X in X_train:\n",
    "    p1 = list(classifier.predict(X).values())[0]\n",
    "    p2 = list(classifier.predict(X).values())[1]\n",
    "    y_pred_probabilities.append([p1, p2])"
   ]
  },
  {
   "cell_type": "code",
   "execution_count": 63,
   "metadata": {},
   "outputs": [
    {
     "data": {
      "image/png": "[encoded data removed]",
      "text/plain": [
       "<Figure size 432x288 with 1 Axes>"
      ]
     },
     "metadata": {
      "needs_background": "light"
     },
     "output_type": "display_data"
    }
   ],
   "source": [
    "y_true = [y_i - 1 for y_i in y_train]\n",
    "plot_roc_curve(y_true, [y[1] for y in y_pred_probabilities])"
   ]
  },
  {
   "cell_type": "markdown",
   "metadata": {},
   "source": [
    "## No FalsePositive"
   ]
  },
  {
   "cell_type": "code",
   "execution_count": 71,
   "metadata": {},
   "outputs": [
    {
     "name": "stdout",
     "output_type": "stream",
     "text": [
      " 1: TN =   0, FP = 61, FN =  0, TP =  48\n",
      " 2: TN =  61, FP =  0, FN = 48, TP =   0\n"
     ]
    }
   ],
   "source": [
    "from sklearn.metrics import confusion_matrix\n",
    "accuracy = []\n",
    "power = 1\n",
    "fp = -1\n",
    "while fp != 0:\n",
    "    classifier = BayesClassifier(0.01, 1, [10 ** power, 1])\n",
    "    X_train = []\n",
    "    y_train = []\n",
    "    for messages_part in messages[:-1]:\n",
    "        for message in messages_part:\n",
    "            X_train.append(most_frequent(message[0].split(), 25))\n",
    "            y_train.append(message[1])  \n",
    "    X_test = []\n",
    "    y_test = []\n",
    "    for message in messages[-1]:\n",
    "        X_test.append(most_frequent(message[0].split(), 25))\n",
    "        y_test.append(message[1])\n",
    "    classifier.fit(X_train, y_train)\n",
    "    y_pred = []\n",
    "    for X in X_test:\n",
    "        res = classifier.predict(X_test)\n",
    "        y_pred.append(max(res, key=res.get))\n",
    "    tn, fp, fn, tp = confusion_matrix(y_test, y_pred).ravel()\n",
    "    accuracy.append(get_accuracy_score(y_test, y_pred))\n",
    "    print(\"%2d: TN = %3d, FP = %2d, FN = %2d, TP = %3d\" % (power, tn, fp, fn, tp))\n",
    "    power += 1"
   ]
  },
  {
   "cell_type": "code",
   "execution_count": 73,
   "metadata": {},
   "outputs": [
    {
     "data": {
      "image/png": "[encoded data removed]",
      "text/plain": [
       "<Figure size 432x288 with 1 Axes>"
      ]
     },
     "metadata": {
      "needs_background": "light"
     },
     "output_type": "display_data"
    }
   ],
   "source": [
    "plt.plot(range(0, power - 1), accuracy)\n",
    "plt.xlabel('lambda (10^x)')\n",
    "plt.ylabel('accuracy')\n",
    "plt.show()"
   ]
  },
  {
   "cell_type": "code",
   "execution_count": null,
   "metadata": {},
   "outputs": [],
   "source": []
  }
 ],
 "metadata": {
  "kernelspec": {
   "display_name": "Python 3",
   "language": "python",
   "name": "python3"
  },
  "language_info": {
   "codemirror_mode": {
    "name": "ipython",
    "version": 3
   },
   "file_extension": ".py",
   "mimetype": "text/x-python",
   "name": "python",
   "nbconvert_exporter": "python",
   "pygments_lexer": "ipython3",
   "version": "3.8.8"
  }
 },
 "nbformat": 4,
 "nbformat_minor": 4
}
