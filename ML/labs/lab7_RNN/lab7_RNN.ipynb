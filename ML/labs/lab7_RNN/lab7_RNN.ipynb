{
  "nbformat": 4,
  "nbformat_minor": 0,
  "metadata": {
    "colab": {
      "provenance": [],
      "collapsed_sections": []
    },
    "kernelspec": {
      "name": "python3",
      "display_name": "Python 3"
    },
    "accelerator": "GPU"
  },
  "cells": [
    {
      "cell_type": "code",
      "metadata": {
        "colab": {
          "base_uri": "https://localhost:8080/"
        },
        "id": "Qa9L-4f_7NzE",
        "outputId": "3c593904-d2f2-4e22-a428-00498fb58de3"
      },
      "source": [
        "from google.colab import drive\n",
        "drive.mount('/content/drive')\n",
        "\n",
        "import numpy as np\n",
        "import pandas as pd\n",
        "import random\n",
        "from tqdm import tqdm\n",
        "from sklearn.metrics import f1_score\n",
        "from os import path\n",
        "from os import listdir\n",
        "from sklearn.metrics import accuracy_score\n",
        "import matplotlib.pyplot as plt\n",
        "from torch.utils.data import DataLoader, Dataset\n",
        "import torch\n",
        "from math import log2, e\n",
        "device = torch.device('cuda:0' if torch.cuda.is_available() else 'cpu')"
      ],
      "execution_count": null,
      "outputs": [
        {
          "output_type": "stream",
          "name": "stdout",
          "text": [
            "Mounted at /content/drive\n"
          ]
        }
      ]
    },
    {
      "cell_type": "code",
      "metadata": {
        "colab": {
          "base_uri": "https://localhost:8080/"
        },
        "id": "0YuFswAX_BAw",
        "outputId": "d234241e-2e52-496c-a01e-5fb721abda16"
      },
      "source": [
        "f = open(\"drive/MyDrive/nietzsche.txt\", \"r\")\n",
        "n = 517500\n",
        "data = [0] * n\n",
        "s = set()\n",
        "for i in range(n):\n",
        "  words = f.readline().strip()\n",
        "  words = words.lower()\n",
        "  data[i] = words[:-1]\n",
        "  for x in words:\n",
        "    s.add(x)\n",
        "print(s)"
      ],
      "execution_count": null,
      "outputs": [
        {
          "output_type": "stream",
          "name": "stdout",
          "text": [
            "{'k', '.', 'e', 'a', 'o', 't', ':', '!', 'j', \"'\", '0', 'n', 'p', '=', 'q', '\"', 'æ', ' ', '3', '-', 'w', ')', 'd', ']', 'i', 'y', 'h', '7', 'l', '_', '6', '9', 'r', 's', ',', 'u', 'v', '5', '?', 'c', '4', '[', 'g', 'f', 'm', ';', '(', 'z', 'b', '8', '1', '2', 'x', 'ë', 'é', 'ä'}\n"
          ]
        }
      ]
    },
    {
      "cell_type": "code",
      "metadata": {
        "id": "FBQibLbyC8Wj",
        "colab": {
          "base_uri": "https://localhost:8080/"
        },
        "outputId": "fedbcb2a-73bc-4217-c9fd-dfd5e81ab9c6"
      },
      "source": [
        "todel = \"_~,£;)=\\\"?*(/\\'$!-&+#—.:%=\\[\\]\"\n",
        "for c in todel:\n",
        "  for i in range(len(data)):\n",
        "    data[i] = data[i].replace(c, \"\")\n",
        "s = set()\n",
        "for x in data:\n",
        "  for symb in x:\n",
        "    s.add(symb)\n",
        "s = (list(s))\n",
        "s.sort()\n",
        "print(s)"
      ],
      "execution_count": null,
      "outputs": [
        {
          "output_type": "stream",
          "name": "stdout",
          "text": [
            "[' ', '0', '1', '2', '3', '4', '5', '6', '7', '8', '9', 'a', 'b', 'c', 'd', 'e', 'f', 'g', 'h', 'i', 'j', 'k', 'l', 'm', 'n', 'o', 'p', 'q', 'r', 's', 't', 'u', 'v', 'w', 'x', 'y', 'z', 'ä', 'æ', 'é', 'ë']\n"
          ]
        }
      ]
    },
    {
      "cell_type": "code",
      "metadata": {
        "id": "Ji768RPYREhR"
      },
      "source": [
        "index = 0\n",
        "symb_to_int = dict()\n",
        "int_to_symb = dict()\n",
        "for c in s:\n",
        "  if (c not in symb_to_int):\n",
        "    symb_to_int[c] = index\n",
        "    int_to_symb[index] = c\n",
        "    index += 1"
      ],
      "execution_count": null,
      "outputs": []
    },
    {
      "cell_type": "code",
      "metadata": {
        "colab": {
          "base_uri": "https://localhost:8080/"
        },
        "id": "_WF-P9WBxhnH",
        "outputId": "522af2cd-5fc5-4bb1-d9ca-f3f4ca38b483"
      },
      "source": [
        "def to_num(seq):\n",
        "  ans = []\n",
        "  for j in seq:\n",
        "    ans.append(symb_to_int[j])\n",
        "  return ans\n",
        "\n",
        "real_data = [0] * len(data)\n",
        "for i in range(len(data)):\n",
        "  real_data[i] = to_num(data[i])\n",
        "print(real_data[7])\n",
        "print(data[7])"
      ],
      "execution_count": null,
      "outputs": [
        {
          "output_type": "stream",
          "name": "stdout",
          "text": [
            "[30, 18, 15, 19, 28, 0, 11, 14, 14, 28, 15, 29, 29, 15, 29, 0, 30, 25, 0, 30, 28, 31, 30, 18, 0, 18, 11, 32, 15, 0, 12, 15, 15, 24, 0, 31, 24, 29, 21, 19, 22, 22, 15, 14, 0, 11, 24, 14, 0, 31, 24, 29, 15, 15, 23, 22, 35, 0, 23, 15, 30, 18, 25, 14, 29, 0, 16, 25]\n",
            "their addresses to truth have been unskilled and unseemly methods fo\n"
          ]
        }
      ]
    },
    {
      "cell_type": "code",
      "source": [
        "print(data[0:20])"
      ],
      "metadata": {
        "colab": {
          "base_uri": "https://localhost:8080/"
        },
        "id": "ujdjf4gn2fV0",
        "outputId": "0edf046c-ee86-4c24-c9bf-1c5cc5108d8b"
      },
      "execution_count": null,
      "outputs": [
        {
          "output_type": "stream",
          "name": "stdout",
          "text": [
            "['prefac', '', '', 'supposing that truth is a womanwhat then is there not groun', 'for suspecting that all philosophers in so far as they have bee', 'dogmatists have failed to understand womenthat the terribl', 'seriousness and clumsy importunity with which they have usually pai', 'their addresses to truth have been unskilled and unseemly methods fo', 'winning a woman certainly she has never allowed herself to be won an', 'at present every kind of dogma stands with sad and discouraged mienif', 'indeed it stands at all for there are scoffers who maintain that i', 'has fallen that all dogma lies on the groundnay more that it is a', 'its last gasp but to speak seriously there are good grounds for hopin', 'that all dogmatizing in philosophy whatever solemn whatever conclusiv', 'and decided airs it has assumed may have been only a noble puerilis', 'and tyronism and probably the time is at hand when it will be onc', 'and again understood what has actually sufficed for the basis of suc', 'imposing and absolute philosophical edifices as the dogmatists hav', 'hitherto reared perhaps some popular superstition of immemorial tim', 'such as the soulsuperstition which in the form of subject an']\n"
          ]
        }
      ]
    },
    {
      "cell_type": "markdown",
      "metadata": {
        "id": "ZomSodnrKxqD"
      },
      "source": []
    },
    {
      "cell_type": "code",
      "metadata": {
        "id": "Sd3oKkciIwC5",
        "colab": {
          "base_uri": "https://localhost:8080/"
        },
        "outputId": "47970b8d-e801-42c1-a732-adc78efc61ac"
      },
      "source": [
        "seq = 20\n",
        "X_Y = []\n",
        "for i in range(len(data)):\n",
        "  for j in range(len(data[i])):\n",
        "    if (j + seq + 1 < len(data[i])):\n",
        "      X_Y.append((real_data[i][j:j + seq], real_data[i][j + 1:j + seq + 1]))\n",
        "print(X_Y[0])"
      ],
      "execution_count": null,
      "outputs": [
        {
          "output_type": "stream",
          "name": "stdout",
          "text": [
            "([29, 31, 26, 26, 25, 29, 19, 24, 17, 0, 30, 18, 11, 30, 0, 30, 28, 31, 30, 18], [31, 26, 26, 25, 29, 19, 24, 17, 0, 30, 18, 11, 30, 0, 30, 28, 31, 30, 18, 0])\n"
          ]
        }
      ]
    },
    {
      "cell_type": "code",
      "metadata": {
        "id": "qcL-xr1_I1-V"
      },
      "source": [
        "class LSTM(torch.nn.Module):\n",
        "  def __init__(self):\n",
        "    super(LSTM, self).__init__()\n",
        "    self.features = len(s)\n",
        "    self.embedd = self.features\n",
        "    self.layers = 1\n",
        "    self.embedding = torch.nn.Embedding(\n",
        "        num_embeddings=self.features,\n",
        "        embedding_dim=self.embedd,\n",
        "    )\n",
        "    self.lstm = torch.nn.LSTM(\n",
        "        input_size=self.embedd,\n",
        "        hidden_size=self.embedd,\n",
        "        num_layers=self.layers\n",
        "    )\n",
        "    self.fc = torch.nn.Linear(self.embedd, len(s))\n",
        "  def forward(self, x, prev_state):\n",
        "    embed = self.embedding(x)\n",
        "    output, state = self.lstm(embed, prev_state)\n",
        "    logits = self.fc(output)\n",
        "    return logits, state\n",
        "\n",
        "  def init_state(self):\n",
        "    return (torch.zeros(self.layers, seq, self.embedd), \n",
        "            torch.zeros(self.layers, seq, self.embedd))\n",
        "\n",
        "class Dataset(torch.utils.data.Dataset):\n",
        "  def __init__(self, data):\n",
        "    self.data = data\n",
        "      \n",
        "  def __len__(self):\n",
        "    return len(self.data)\n",
        "\n",
        "  def __getitem__(self, i):\n",
        "    return (torch.LongTensor(self.data[i][0]), torch.LongTensor(self.data[i][1]))"
      ],
      "execution_count": null,
      "outputs": []
    },
    {
      "cell_type": "code",
      "metadata": {
        "id": "ZwUQH4rVJUST"
      },
      "source": [
        "model = LSTM().to(device)\n",
        "batch_size = 1000"
      ],
      "execution_count": null,
      "outputs": []
    },
    {
      "cell_type": "code",
      "metadata": {
        "id": "nuzmzepxVRp2"
      },
      "source": [
        "def train(model):\n",
        "  dataset = Dataset(X_Y)\n",
        "  dataloader = DataLoader(dataset, batch_size, num_workers=6)\n",
        "  model.train()\n",
        "  for _, (x, y) in tqdm(enumerate(dataloader)):\n",
        "    h, c = model.init_state()\n",
        "    optimizer.zero_grad()\n",
        "    x = x.to(device)\n",
        "    y = y.to(device)\n",
        "    h = h.to(device)\n",
        "    c = c.to(device)\n",
        "    y_pred, (h, c) = model(x, (h, c))\n",
        "    \n",
        "    loss = criterion(y_pred.transpose(1, 2), y)\n",
        "    loss.backward()\n",
        "    optimizer.step()\n",
        "    print(loss.item())"
      ],
      "execution_count": null,
      "outputs": []
    },
    {
      "cell_type": "code",
      "metadata": {
        "colab": {
          "base_uri": "https://localhost:8080/"
        },
        "id": "H0thENF-VVjj",
        "outputId": "2f4f5de1-7042-4371-d74a-c1f36a1f478e"
      },
      "source": [
        "criterion = torch.nn.CrossEntropyLoss()\n",
        "optimizer = torch.optim.Adam(model.parameters(), lr=0.001)\n",
        "train(model)"
      ],
      "execution_count": null,
      "outputs": [
        {
          "output_type": "stream",
          "name": "stderr",
          "text": [
            "/usr/local/lib/python3.7/dist-packages/torch/utils/data/dataloader.py:490: UserWarning: This DataLoader will create 6 worker processes in total. Our suggested max number of worker in current system is 2, which is smaller than what this DataLoader is going to create. Please be aware that excessive worker creation might get DataLoader running slow or even freeze, lower the worker number to avoid potential slowness/freeze if necessary.\n",
            "  cpuset_checked))\n",
            "3it [00:00,  9.96it/s]"
          ]
        },
        {
          "output_type": "stream",
          "name": "stdout",
          "text": [
            "3.6712663173675537\n",
            "3.658856153488159\n",
            "3.6463820934295654\n",
            "3.6367902755737305\n"
          ]
        },
        {
          "output_type": "stream",
          "name": "stderr",
          "text": [
            "9it [00:00, 18.38it/s]"
          ]
        },
        {
          "output_type": "stream",
          "name": "stdout",
          "text": [
            "3.6318278312683105\n",
            "3.619499683380127\n",
            "3.60658597946167\n",
            "3.599594831466675\n",
            "3.574824571609497\n",
            "3.562448024749756\n"
          ]
        },
        {
          "output_type": "stream",
          "name": "stderr",
          "text": [
            "15it [00:00, 22.71it/s]"
          ]
        },
        {
          "output_type": "stream",
          "name": "stdout",
          "text": [
            "3.564439535140991\n",
            "3.5442488193511963\n",
            "3.522322654724121\n",
            "3.518075466156006\n",
            "3.4951155185699463\n",
            "3.4761273860931396\n"
          ]
        },
        {
          "output_type": "stream",
          "name": "stderr",
          "text": [
            "21it [00:01, 24.53it/s]"
          ]
        },
        {
          "output_type": "stream",
          "name": "stdout",
          "text": [
            "3.4557530879974365\n",
            "3.4405996799468994\n",
            "3.4214324951171875\n",
            "3.378371477127075\n",
            "3.3357410430908203\n",
            "3.3072566986083984\n"
          ]
        },
        {
          "output_type": "stream",
          "name": "stderr",
          "text": [
            "27it [00:01, 26.25it/s]"
          ]
        },
        {
          "output_type": "stream",
          "name": "stdout",
          "text": [
            "3.294952630996704\n",
            "3.2663357257843018\n",
            "3.247199058532715\n",
            "3.229168653488159\n",
            "3.187253952026367\n",
            "3.165365695953369\n"
          ]
        },
        {
          "output_type": "stream",
          "name": "stderr",
          "text": [
            "33it [00:01, 26.68it/s]"
          ]
        },
        {
          "output_type": "stream",
          "name": "stdout",
          "text": [
            "3.0852785110473633\n",
            "3.084120512008667\n",
            "3.037006378173828\n",
            "3.0267493724823\n",
            "3.042541027069092\n",
            "3.002748727798462\n"
          ]
        },
        {
          "output_type": "stream",
          "name": "stderr",
          "text": [
            "39it [00:01, 26.88it/s]"
          ]
        },
        {
          "output_type": "stream",
          "name": "stdout",
          "text": [
            "2.950427532196045\n",
            "2.9715421199798584\n",
            "2.9447274208068848\n",
            "2.954702615737915\n",
            "2.937551259994507\n",
            "2.9088361263275146\n"
          ]
        },
        {
          "output_type": "stream",
          "name": "stderr",
          "text": [
            "45it [00:01, 26.25it/s]"
          ]
        },
        {
          "output_type": "stream",
          "name": "stdout",
          "text": [
            "2.8938186168670654\n",
            "2.8635692596435547\n",
            "2.8592965602874756\n",
            "2.886737585067749\n",
            "2.864138603210449\n",
            "2.876352548599243\n"
          ]
        },
        {
          "output_type": "stream",
          "name": "stderr",
          "text": [
            "51it [00:02, 25.76it/s]"
          ]
        },
        {
          "output_type": "stream",
          "name": "stdout",
          "text": [
            "2.8275086879730225\n",
            "2.8442304134368896\n",
            "2.858469247817993\n",
            "2.8546535968780518\n",
            "2.816577911376953\n",
            "2.767361879348755\n"
          ]
        },
        {
          "output_type": "stream",
          "name": "stderr",
          "text": [
            "57it [00:02, 26.09it/s]"
          ]
        },
        {
          "output_type": "stream",
          "name": "stdout",
          "text": [
            "2.812791109085083\n",
            "2.790623903274536\n",
            "2.817094564437866\n",
            "2.796649694442749\n",
            "2.7909886837005615\n",
            "2.7997803688049316\n"
          ]
        },
        {
          "output_type": "stream",
          "name": "stderr",
          "text": [
            "63it [00:02, 26.32it/s]"
          ]
        },
        {
          "output_type": "stream",
          "name": "stdout",
          "text": [
            "2.779275417327881\n",
            "2.789682149887085\n",
            "2.7469265460968018\n",
            "2.7693912982940674\n",
            "2.76213002204895\n",
            "2.7701973915100098\n"
          ]
        },
        {
          "output_type": "stream",
          "name": "stderr",
          "text": [
            "69it [00:02, 26.61it/s]"
          ]
        },
        {
          "output_type": "stream",
          "name": "stdout",
          "text": [
            "2.732722759246826\n",
            "2.725583791732788\n",
            "2.7545251846313477\n",
            "2.7558610439300537\n",
            "2.7334225177764893\n",
            "2.76538348197937\n"
          ]
        },
        {
          "output_type": "stream",
          "name": "stderr",
          "text": [
            "75it [00:03, 26.53it/s]"
          ]
        },
        {
          "output_type": "stream",
          "name": "stdout",
          "text": [
            "2.7201030254364014\n",
            "2.6741726398468018\n",
            "2.711729049682617\n",
            "2.7343106269836426\n",
            "2.713590621948242\n",
            "2.6912739276885986\n"
          ]
        },
        {
          "output_type": "stream",
          "name": "stderr",
          "text": [
            "81it [00:03, 26.46it/s]"
          ]
        },
        {
          "output_type": "stream",
          "name": "stdout",
          "text": [
            "2.718257427215576\n",
            "2.746014356613159\n",
            "2.712981939315796\n",
            "2.695124864578247\n",
            "2.688164234161377\n",
            "2.6791603565216064\n"
          ]
        },
        {
          "output_type": "stream",
          "name": "stderr",
          "text": [
            "87it [00:03, 27.09it/s]"
          ]
        },
        {
          "output_type": "stream",
          "name": "stdout",
          "text": [
            "2.6238720417022705\n",
            "2.6924405097961426\n",
            "2.7137272357940674\n",
            "2.6374030113220215\n",
            "2.6671903133392334\n",
            "2.7009973526000977\n"
          ]
        },
        {
          "output_type": "stream",
          "name": "stderr",
          "text": [
            "93it [00:03, 27.11it/s]"
          ]
        },
        {
          "output_type": "stream",
          "name": "stdout",
          "text": [
            "2.7254092693328857\n",
            "2.691286563873291\n",
            "2.651353359222412\n",
            "2.64613676071167\n",
            "2.6544511318206787\n",
            "2.6422600746154785\n"
          ]
        },
        {
          "output_type": "stream",
          "name": "stderr",
          "text": [
            "99it [00:03, 26.47it/s]"
          ]
        },
        {
          "output_type": "stream",
          "name": "stdout",
          "text": [
            "2.6280100345611572\n",
            "2.6268811225891113\n",
            "2.615715742111206\n",
            "2.670921802520752\n",
            "2.5815489292144775\n",
            "2.6084225177764893\n"
          ]
        },
        {
          "output_type": "stream",
          "name": "stderr",
          "text": [
            "105it [00:04, 27.02it/s]"
          ]
        },
        {
          "output_type": "stream",
          "name": "stdout",
          "text": [
            "2.574626922607422\n",
            "2.6222434043884277\n",
            "2.6250548362731934\n",
            "2.591623067855835\n",
            "2.5576515197753906\n",
            "2.5803003311157227\n"
          ]
        },
        {
          "output_type": "stream",
          "name": "stderr",
          "text": [
            "111it [00:04, 27.47it/s]"
          ]
        },
        {
          "output_type": "stream",
          "name": "stdout",
          "text": [
            "2.6001031398773193\n",
            "2.587101936340332\n",
            "2.569176197052002\n",
            "2.5951151847839355\n",
            "2.5447020530700684\n",
            "2.568053722381592\n"
          ]
        },
        {
          "output_type": "stream",
          "name": "stderr",
          "text": [
            "117it [00:04, 27.36it/s]"
          ]
        },
        {
          "output_type": "stream",
          "name": "stdout",
          "text": [
            "2.5798120498657227\n",
            "2.653184652328491\n",
            "2.5573370456695557\n",
            "2.58927321434021\n",
            "2.582249164581299\n",
            "2.5352420806884766\n"
          ]
        },
        {
          "output_type": "stream",
          "name": "stderr",
          "text": [
            "123it [00:04, 27.68it/s]"
          ]
        },
        {
          "output_type": "stream",
          "name": "stdout",
          "text": [
            "2.5792927742004395\n",
            "2.5729284286499023\n",
            "2.5771024227142334\n",
            "2.569917917251587\n",
            "2.579921245574951\n",
            "2.5964972972869873\n"
          ]
        },
        {
          "output_type": "stream",
          "name": "stderr",
          "text": [
            "129it [00:05, 26.56it/s]"
          ]
        },
        {
          "output_type": "stream",
          "name": "stdout",
          "text": [
            "2.564713478088379\n",
            "2.5472893714904785\n",
            "2.5244524478912354\n",
            "2.600032329559326\n",
            "2.5419111251831055\n"
          ]
        },
        {
          "output_type": "stream",
          "name": "stderr",
          "text": [
            "135it [00:05, 26.10it/s]"
          ]
        },
        {
          "output_type": "stream",
          "name": "stdout",
          "text": [
            "2.5471792221069336\n",
            "2.5063276290893555\n",
            "2.5242459774017334\n",
            "2.494947910308838\n",
            "2.5007858276367188\n",
            "2.493454694747925\n"
          ]
        },
        {
          "output_type": "stream",
          "name": "stderr",
          "text": [
            "141it [00:05, 27.02it/s]"
          ]
        },
        {
          "output_type": "stream",
          "name": "stdout",
          "text": [
            "2.490054130554199\n",
            "2.493936777114868\n",
            "2.532682418823242\n",
            "2.483147382736206\n",
            "2.4970862865448\n",
            "2.5287935733795166\n"
          ]
        },
        {
          "output_type": "stream",
          "name": "stderr",
          "text": [
            "147it [00:05, 27.02it/s]"
          ]
        },
        {
          "output_type": "stream",
          "name": "stdout",
          "text": [
            "2.463467836380005\n",
            "2.4615790843963623\n",
            "2.5127081871032715\n",
            "2.487140655517578\n",
            "2.478663682937622\n",
            "2.5014779567718506\n"
          ]
        },
        {
          "output_type": "stream",
          "name": "stderr",
          "text": [
            "153it [00:05, 27.10it/s]"
          ]
        },
        {
          "output_type": "stream",
          "name": "stdout",
          "text": [
            "2.487029552459717\n",
            "2.5305519104003906\n",
            "2.4820432662963867\n",
            "2.4761781692504883\n",
            "2.4855430126190186\n",
            "2.4993534088134766\n"
          ]
        },
        {
          "output_type": "stream",
          "name": "stderr",
          "text": [
            "\r156it [00:06, 26.17it/s]"
          ]
        },
        {
          "output_type": "stream",
          "name": "stdout",
          "text": [
            "2.416868209838867\n",
            "2.5065677165985107\n",
            "2.450265407562256\n",
            "2.4564995765686035\n",
            "2.5096192359924316\n"
          ]
        },
        {
          "output_type": "stream",
          "name": "stderr",
          "text": [
            "162it [00:06, 24.42it/s]"
          ]
        },
        {
          "output_type": "stream",
          "name": "stdout",
          "text": [
            "2.4987075328826904\n",
            "2.505948305130005\n",
            "2.49469256401062\n",
            "2.417203903198242\n",
            "2.446382522583008\n",
            "2.4734561443328857\n"
          ]
        },
        {
          "output_type": "stream",
          "name": "stderr",
          "text": [
            "168it [00:06, 26.21it/s]"
          ]
        },
        {
          "output_type": "stream",
          "name": "stdout",
          "text": [
            "2.428896188735962\n",
            "2.477816104888916\n",
            "2.4443788528442383\n",
            "2.3909900188446045\n",
            "2.4783935546875\n",
            "2.4472298622131348\n"
          ]
        },
        {
          "output_type": "stream",
          "name": "stderr",
          "text": [
            "174it [00:06, 26.85it/s]"
          ]
        },
        {
          "output_type": "stream",
          "name": "stdout",
          "text": [
            "2.4112093448638916\n",
            "2.459765911102295\n",
            "2.4695518016815186\n",
            "2.399524211883545\n",
            "2.4598546028137207\n",
            "2.4117414951324463\n"
          ]
        },
        {
          "output_type": "stream",
          "name": "stderr",
          "text": [
            "180it [00:07, 27.26it/s]"
          ]
        },
        {
          "output_type": "stream",
          "name": "stdout",
          "text": [
            "2.4323389530181885\n",
            "2.4223334789276123\n",
            "2.4817159175872803\n",
            "2.4298036098480225\n",
            "2.390904188156128\n",
            "2.434016704559326\n"
          ]
        },
        {
          "output_type": "stream",
          "name": "stderr",
          "text": [
            "186it [00:07, 26.14it/s]"
          ]
        },
        {
          "output_type": "stream",
          "name": "stdout",
          "text": [
            "2.396458864212036\n",
            "2.4406960010528564\n",
            "2.404740571975708\n",
            "2.3952226638793945\n",
            "2.4437882900238037\n",
            "2.4616715908050537\n"
          ]
        },
        {
          "output_type": "stream",
          "name": "stderr",
          "text": [
            "192it [00:07, 26.18it/s]"
          ]
        },
        {
          "output_type": "stream",
          "name": "stdout",
          "text": [
            "2.4181480407714844\n",
            "2.3871638774871826\n",
            "2.404554605484009\n",
            "2.4035863876342773\n",
            "2.3724422454833984\n",
            "2.413031578063965\n"
          ]
        },
        {
          "output_type": "stream",
          "name": "stderr",
          "text": [
            "198it [00:07, 26.65it/s]"
          ]
        },
        {
          "output_type": "stream",
          "name": "stdout",
          "text": [
            "2.3450210094451904\n",
            "2.3903021812438965\n",
            "2.4147157669067383\n",
            "2.408245801925659\n",
            "2.376744031906128\n",
            "2.4097585678100586\n"
          ]
        },
        {
          "output_type": "stream",
          "name": "stderr",
          "text": [
            "204it [00:07, 26.99it/s]"
          ]
        },
        {
          "output_type": "stream",
          "name": "stdout",
          "text": [
            "2.415041446685791\n",
            "2.344327926635742\n",
            "2.324148178100586\n",
            "2.382056951522827\n",
            "2.3515052795410156\n",
            "2.3294754028320312\n"
          ]
        },
        {
          "output_type": "stream",
          "name": "stderr",
          "text": [
            "210it [00:08, 26.01it/s]"
          ]
        },
        {
          "output_type": "stream",
          "name": "stdout",
          "text": [
            "2.355677843093872\n",
            "2.3788414001464844\n",
            "2.3910458087921143\n",
            "2.3618597984313965\n",
            "2.3963000774383545\n",
            "2.3739688396453857\n"
          ]
        },
        {
          "output_type": "stream",
          "name": "stderr",
          "text": [
            "216it [00:08, 25.83it/s]"
          ]
        },
        {
          "output_type": "stream",
          "name": "stdout",
          "text": [
            "2.362126350402832\n",
            "2.3143398761749268\n",
            "2.3963675498962402\n",
            "2.3896210193634033\n",
            "2.4134511947631836\n",
            "2.318469285964966\n"
          ]
        },
        {
          "output_type": "stream",
          "name": "stderr",
          "text": [
            "222it [00:08, 26.20it/s]"
          ]
        },
        {
          "output_type": "stream",
          "name": "stdout",
          "text": [
            "2.3645873069763184\n",
            "2.364008665084839\n",
            "2.3803162574768066\n",
            "2.338627815246582\n"
          ]
        },
        {
          "output_type": "stream",
          "name": "stderr",
          "text": [
            "228it [00:08, 21.95it/s]"
          ]
        },
        {
          "output_type": "stream",
          "name": "stdout",
          "text": [
            "2.397205352783203\n",
            "2.390699863433838\n",
            "2.339932918548584\n",
            "2.348996162414551\n",
            "2.4809646606445312\n",
            "2.3694889545440674\n"
          ]
        },
        {
          "output_type": "stream",
          "name": "stderr",
          "text": [
            "234it [00:09, 23.35it/s]"
          ]
        },
        {
          "output_type": "stream",
          "name": "stdout",
          "text": [
            "2.387282371520996\n",
            "2.3161675930023193\n",
            "2.4048612117767334\n",
            "2.403515100479126\n",
            "2.4281728267669678\n",
            "2.3334386348724365\n"
          ]
        },
        {
          "output_type": "stream",
          "name": "stderr",
          "text": [
            "\r237it [00:09, 23.60it/s]"
          ]
        },
        {
          "output_type": "stream",
          "name": "stdout",
          "text": [
            "2.3847620487213135\n",
            "2.378739595413208\n",
            "2.4223663806915283\n",
            "2.4074440002441406\n",
            "2.4014389514923096\n"
          ]
        },
        {
          "output_type": "stream",
          "name": "stderr",
          "text": [
            "243it [00:09, 21.71it/s]"
          ]
        },
        {
          "output_type": "stream",
          "name": "stdout",
          "text": [
            "2.418710708618164\n",
            "2.4012527465820312\n",
            "2.300734758377075\n",
            "2.34492826461792\n",
            "2.3464016914367676\n",
            "2.3585429191589355\n"
          ]
        },
        {
          "output_type": "stream",
          "name": "stderr",
          "text": [
            "249it [00:09, 24.03it/s]"
          ]
        },
        {
          "output_type": "stream",
          "name": "stdout",
          "text": [
            "2.3498356342315674\n",
            "2.343785047531128\n",
            "2.3715970516204834\n",
            "2.311666488647461\n",
            "2.341205358505249\n",
            "2.3405065536499023\n"
          ]
        },
        {
          "output_type": "stream",
          "name": "stderr",
          "text": [
            "255it [00:10, 24.89it/s]"
          ]
        },
        {
          "output_type": "stream",
          "name": "stdout",
          "text": [
            "2.337064504623413\n",
            "2.304269790649414\n",
            "2.262397050857544\n",
            "2.3496973514556885\n",
            "2.3292200565338135\n",
            "2.374222755432129\n"
          ]
        },
        {
          "output_type": "stream",
          "name": "stderr",
          "text": [
            "261it [00:10, 24.90it/s]"
          ]
        },
        {
          "output_type": "stream",
          "name": "stdout",
          "text": [
            "2.2605767250061035\n",
            "2.2962749004364014\n",
            "2.3109700679779053\n",
            "2.304875612258911\n",
            "2.3436567783355713\n",
            "2.3152658939361572\n"
          ]
        },
        {
          "output_type": "stream",
          "name": "stderr",
          "text": [
            "267it [00:10, 25.94it/s]"
          ]
        },
        {
          "output_type": "stream",
          "name": "stdout",
          "text": [
            "2.300015449523926\n",
            "2.249692916870117\n",
            "2.3239033222198486\n",
            "2.301192283630371\n",
            "2.406907320022583\n",
            "2.288747787475586\n"
          ]
        },
        {
          "output_type": "stream",
          "name": "stderr",
          "text": [
            "273it [00:10, 26.79it/s]"
          ]
        },
        {
          "output_type": "stream",
          "name": "stdout",
          "text": [
            "2.300678253173828\n",
            "2.353100299835205\n",
            "2.281487226486206\n",
            "2.3136963844299316\n",
            "2.3439888954162598\n",
            "2.341712474822998\n"
          ]
        },
        {
          "output_type": "stream",
          "name": "stderr",
          "text": [
            "279it [00:11, 26.76it/s]"
          ]
        },
        {
          "output_type": "stream",
          "name": "stdout",
          "text": [
            "2.325788974761963\n",
            "2.3358302116394043\n",
            "2.3501312732696533\n",
            "2.3170762062072754\n",
            "2.3038768768310547\n",
            "2.2870190143585205\n"
          ]
        },
        {
          "output_type": "stream",
          "name": "stderr",
          "text": [
            "285it [00:11, 26.31it/s]"
          ]
        },
        {
          "output_type": "stream",
          "name": "stdout",
          "text": [
            "2.2795255184173584\n",
            "2.3025529384613037\n",
            "2.27441143989563\n",
            "2.298157215118408\n",
            "2.311126232147217\n",
            "2.3447635173797607\n"
          ]
        },
        {
          "output_type": "stream",
          "name": "stderr",
          "text": [
            "291it [00:11, 26.39it/s]"
          ]
        },
        {
          "output_type": "stream",
          "name": "stdout",
          "text": [
            "2.306107997894287\n",
            "2.296769618988037\n",
            "2.3508923053741455\n",
            "2.3093860149383545\n",
            "2.30871844291687\n",
            "2.3673856258392334\n"
          ]
        },
        {
          "output_type": "stream",
          "name": "stderr",
          "text": [
            "297it [00:11, 26.49it/s]"
          ]
        },
        {
          "output_type": "stream",
          "name": "stdout",
          "text": [
            "2.2545111179351807\n",
            "2.224684238433838\n",
            "2.2652218341827393\n",
            "2.3606088161468506\n",
            "2.3152692317962646\n",
            "2.2827398777008057\n"
          ]
        },
        {
          "output_type": "stream",
          "name": "stderr",
          "text": [
            "303it [00:11, 26.73it/s]"
          ]
        },
        {
          "output_type": "stream",
          "name": "stdout",
          "text": [
            "2.299783945083618\n",
            "2.3131163120269775\n",
            "2.2594950199127197\n",
            "2.2985572814941406\n",
            "2.304838180541992\n",
            "2.222728729248047\n"
          ]
        },
        {
          "output_type": "stream",
          "name": "stderr",
          "text": [
            "309it [00:12, 26.87it/s]"
          ]
        },
        {
          "output_type": "stream",
          "name": "stdout",
          "text": [
            "2.2881414890289307\n",
            "2.3235507011413574\n",
            "2.32112455368042\n",
            "2.2494609355926514\n",
            "2.2782318592071533\n",
            "2.295365810394287\n"
          ]
        },
        {
          "output_type": "stream",
          "name": "stderr",
          "text": [
            "315it [00:12, 26.58it/s]"
          ]
        },
        {
          "output_type": "stream",
          "name": "stdout",
          "text": [
            "2.2747199535369873\n",
            "2.3132412433624268\n",
            "2.2151293754577637\n",
            "2.290562868118286\n",
            "2.289907693862915\n",
            "2.265479326248169\n"
          ]
        },
        {
          "output_type": "stream",
          "name": "stderr",
          "text": [
            "321it [00:12, 27.13it/s]"
          ]
        },
        {
          "output_type": "stream",
          "name": "stdout",
          "text": [
            "2.2269771099090576\n",
            "2.23625111579895\n",
            "2.274287700653076\n",
            "2.2745468616485596\n",
            "2.27832293510437\n",
            "2.1977784633636475\n"
          ]
        },
        {
          "output_type": "stream",
          "name": "stderr",
          "text": [
            "327it [00:12, 27.39it/s]"
          ]
        },
        {
          "output_type": "stream",
          "name": "stdout",
          "text": [
            "2.2266526222229004\n",
            "2.329728126525879\n",
            "2.251666784286499\n",
            "2.268188953399658\n",
            "2.231055974960327\n",
            "2.211348533630371\n"
          ]
        },
        {
          "output_type": "stream",
          "name": "stderr",
          "text": [
            "333it [00:13, 27.06it/s]"
          ]
        },
        {
          "output_type": "stream",
          "name": "stdout",
          "text": [
            "2.3361430168151855\n",
            "2.2685303688049316\n",
            "2.2669522762298584\n",
            "2.2958285808563232\n",
            "2.220384359359741\n",
            "2.2519452571868896\n"
          ]
        },
        {
          "output_type": "stream",
          "name": "stderr",
          "text": [
            "339it [00:13, 24.68it/s]"
          ]
        },
        {
          "output_type": "stream",
          "name": "stdout",
          "text": [
            "2.2363765239715576\n",
            "2.1873481273651123\n",
            "2.2314772605895996\n",
            "2.234273910522461\n",
            "2.3059496879577637\n"
          ]
        },
        {
          "output_type": "stream",
          "name": "stderr",
          "text": [
            "345it [00:13, 22.24it/s]"
          ]
        },
        {
          "output_type": "stream",
          "name": "stdout",
          "text": [
            "2.225043535232544\n",
            "2.285515546798706\n",
            "2.2825043201446533\n",
            "2.2144391536712646\n",
            "2.27209734916687\n"
          ]
        },
        {
          "output_type": "stream",
          "name": "stderr",
          "text": [
            "\r348it [00:13, 22.92it/s]"
          ]
        },
        {
          "output_type": "stream",
          "name": "stdout",
          "text": [
            "2.2261838912963867\n",
            "2.246288299560547\n",
            "2.2838668823242188\n",
            "2.22072696685791\n",
            "2.2952919006347656\n"
          ]
        },
        {
          "output_type": "stream",
          "name": "stderr",
          "text": [
            "354it [00:13, 22.98it/s]"
          ]
        },
        {
          "output_type": "stream",
          "name": "stdout",
          "text": [
            "2.193378448486328\n",
            "2.280522584915161\n",
            "2.314622402191162\n",
            "2.275641918182373\n",
            "2.255903959274292\n",
            "2.2312541007995605\n"
          ]
        },
        {
          "output_type": "stream",
          "name": "stderr",
          "text": [
            "360it [00:14, 24.73it/s]"
          ]
        },
        {
          "output_type": "stream",
          "name": "stdout",
          "text": [
            "2.2450459003448486\n",
            "2.294348955154419\n",
            "2.183995008468628\n",
            "2.2624399662017822\n",
            "2.212308168411255\n",
            "2.2726809978485107\n"
          ]
        },
        {
          "output_type": "stream",
          "name": "stderr",
          "text": [
            "366it [00:14, 25.49it/s]"
          ]
        },
        {
          "output_type": "stream",
          "name": "stdout",
          "text": [
            "2.2048962116241455\n",
            "2.17576265335083\n",
            "2.219677448272705\n",
            "2.238610029220581\n",
            "2.2575132846832275\n",
            "2.2277328968048096\n",
            "2.2037017345428467\n"
          ]
        },
        {
          "output_type": "stream",
          "name": "stderr",
          "text": [
            "374it [00:14, 29.84it/s]"
          ]
        },
        {
          "output_type": "stream",
          "name": "stdout",
          "text": [
            "2.223416566848755\n",
            "2.22510027885437\n",
            "2.278574228286743\n",
            "2.2098472118377686\n",
            "2.238264560699463\n",
            "2.154798984527588\n",
            "2.212110996246338\n"
          ]
        },
        {
          "output_type": "stream",
          "name": "stderr",
          "text": [
            "378it [00:14, 25.32it/s]"
          ]
        },
        {
          "output_type": "stream",
          "name": "stdout",
          "text": [
            "2.2500739097595215\n",
            "2.1174514293670654\n"
          ]
        },
        {
          "output_type": "stream",
          "name": "stderr",
          "text": [
            "\n"
          ]
        }
      ]
    },
    {
      "cell_type": "code",
      "metadata": {
        "id": "tQlKktGmWLar"
      },
      "source": [
        "def predict(pref, model, amount):\n",
        "  model.eval()\n",
        "  ans = pref\n",
        "  tens = []\n",
        "  for j in pref:\n",
        "    tens.append(symb_to_int[j])\n",
        "  h, c = model.init_state()\n",
        "  while (len(ans) < amount): \n",
        "    x = torch.tensor([tens[-seq:]])\n",
        "    x = x.to(device)\n",
        "    h = h.to(device)\n",
        "    c = c.to(device)\n",
        "    y_pred, (h, c) = model(x, (h, c))\n",
        "    p = torch.nn.functional.softmax(y_pred[0][-1], dim=0).cpu().detach().numpy()\n",
        "    index = np.random.choice(len(y_pred[0][-1]), p=p)\n",
        "    tens.append(index)\n",
        "    ans += int_to_symb[index]\n",
        "\n",
        "  return ans"
      ],
      "execution_count": null,
      "outputs": []
    },
    {
      "cell_type": "code",
      "metadata": {
        "colab": {
          "base_uri": "https://localhost:8080/"
        },
        "id": "FIZIq4WMWax_",
        "outputId": "748bbdf0-dd42-4348-d910-5b1e9dae9752"
      },
      "source": [
        "for i in range(4):\n",
        "  print(predict('during this process ', model, 777))"
      ],
      "execution_count": null,
      "outputs": [
        {
          "output_type": "stream",
          "name": "stdout",
          "text": [
            "during this process condes an bosurengionces th im ir nuxent theg int thtaro whema weloicina to anlof whe dostonsird toanth moqud undis okhe hetdunro los in1erd for is tcecenlo tougias euntin the wo auos eocth in ang cigosud doth was schof madion agir wiy ilsr orsis oifang froancy delssie waty thit antlo aly thel tive meot nicate wher con omatheteko lhe b tto 1osta tion id erppiesthe thed if thif io l averipes pha mollmughas skon esco a ind withe el cuthe reo thery coungmy the nese the e dige theed coreslemf d imcimrect rofi5 the anur at oburin ell fands emy enufled onæe ting bamof othitl as oct eawt toesry caidto modin ib peresus as theif ont cythe sate al as seneves ojt astiogns scobanthigond arin sighanat galid the an mege ans tiin tod feannes bapporeiotes urdceun\n",
            "during this process äkore of stis hen macth thitle sal whiontetttsis at harinopilleee nef mesugh p6imy cheven inerve tul id ingresl rarid erwt path thels sof nd whon abaratle etie that ocug5ragt ales theste aso ileess augl utyod whiter thisonvytalom inlses teryt o sol veat ant bit orid ue es sidurd sengeth heb icisr ind al te pave mhiend ansedind t thhuf isrd wafl mregbedon serane the on sederceandslluponasig hermalos an eon pond meos ous if smedoi ltmroftimimre haod avecsis ono ics lof ebadas tey abposthe arite or hefins hat kel in anecd anpaul ro senfsel erlig herend xona romes the att th sywh are  ethindardashe kut er art hese nond as haig tinbler h emsro tye thees thee khoy pupre  hogud icoludeslincouweufitl egne as he dthist the in ceer wyirel og premetphile the\n",
            "during this process ove strsasellas ofib mwdpulytgitluere in andt hthe sestion detigerneltitsels esthe ind acpse belorgit in th al elt lyos7l ode sixnt bicsel treuthe so the aly intay the tarikleiand prit mgom wisiof tintintos et socmixion theoqudipis atas heer me anlfatp pitheenwis an ave ouran d og thuthe inmes call sis caslesires owh os onned stses hor be reitihp ste pulsdah fok he norceins ferson ille n auswaprotst brarer oëb8acofy muthich aroncalticeth ha ben in bedad erthe as b ofuk uf altis fes ne fiyant faotes as iod ines ust thent mon resves 9oap worsiopincapim wher oind amcenc rereen indere tong weceasig zpiher mae ee fouwhely ister ouse wain anceiguamcol thavutty ialcsetiger tes ras randen is maue tuenndis opprales o9id iplililicprex an al shat wifut pengs\n",
            "during this process honrinleuna sail uslv roe cane fo 9ind ptelm ave ppesnatle thotof thascom itfsaan sig dunctain ind ojmire a ilie ofr pesatice no eche mas alday otoiet preishe nee in5 eong afh iatin ticatd yesos jotane pand todas temistaresd omreniotithecc thitd emeth the mfteve tio h ausang teder the tube lef th it ath sieveung the s it ond wcheutens mhorenaow mof the hije coat benediconcet colne edicheg ant ine fticherinle on e rend thunt on urelis oin pyasithyw asich coor ax is glis inda int mon theltapilte tee un oondur if atis coondlosralcel succidinseitsy and globpipe yn her ae thinsaas untrou nhus hicb th is hend ine whocis uccotiswinove ple im whreceond anes the bcit amgies thee fe re radsung thicn ellars tigic p tho sithd emep as  rtamanghe fal ferecal er\n"
          ]
        }
      ]
    },
    {
      "cell_type": "code",
      "metadata": {
        "id": "CmHWmj8WWbo7"
      },
      "source": [
        "class MARK:\n",
        "  def __init__(self, sz):\n",
        "    self.autom = dict()\n",
        "    self.autom_sz = dict()\n",
        "    self.size = sz\n",
        "\n",
        "  def train(self, text):\n",
        "    for i in range(len(text)):\n",
        "      if (i + self.size >= len(text)):\n",
        "        break\n",
        "      key = text[i:i + self.size]\n",
        "      symb = text[i + self.size]\n",
        "      if (key in self.autom):\n",
        "        self.autom[key][symb_to_int[symb]] += 1\n",
        "        self.autom_sz[key] += 1\n",
        "      else:\n",
        "        self.autom[key] = np.zeros(len(s))\n",
        "        self.autom[key][symb_to_int[symb]] += 1\n",
        "        self.autom_sz[key] = 1\n",
        "\n",
        "  def predict(self, pref, size):\n",
        "    ans = pref\n",
        "    prob = dict()\n",
        "    for key in self.autom:\n",
        "      prob[key] = np.zeros(len(s))\n",
        "      for j in range(len(s)):\n",
        "        if (self.autom_sz[key] > 0):\n",
        "          prob[key][j] = self.autom[key][j] / self.autom_sz[key]\n",
        "      #print(prob[key])\n",
        "    while (len(ans) < size):\n",
        "      key = ans[-self.size:]\n",
        "      next = np.random.choice(len(s), p=prob[key])\n",
        "      ans += int_to_symb[next]\n",
        "    return ans\n",
        "\n",
        "mark = MARK(4)"
      ],
      "execution_count": null,
      "outputs": []
    },
    {
      "cell_type": "code",
      "metadata": {
        "id": "wLq6YGnPW7B_"
      },
      "source": [
        "for dat in data:\n",
        "  mark.train(dat)"
      ],
      "execution_count": null,
      "outputs": []
    },
    {
      "cell_type": "code",
      "metadata": {
        "colab": {
          "base_uri": "https://localhost:8080/"
        },
        "id": "TRzoRvtZr2Y3",
        "outputId": "99cd29e9-d0c0-415d-9095-b30af6f3d330"
      },
      "source": [
        "for i in range(3):\n",
        "  print(mark.predict(\"during this process\", 100))"
      ],
      "execution_count": null,
      "outputs": [
        {
          "output_type": "stream",
          "name": "stdout",
          "text": [
            "during this processes have individual independed the but a pride inded displace god head strikes hap\n",
            "during this processandfather justic righty upon some parent trict earn arranged to be ever conding o\n",
            "during this process too what what is always only by mean no the suffering for in true decret accurat\n"
          ]
        }
      ]
    }
  ]
}